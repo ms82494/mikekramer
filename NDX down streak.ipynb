{
 "cells": [
  {
   "cell_type": "code",
   "execution_count": 1,
   "id": "e0cb3f4f",
   "metadata": {},
   "outputs": [],
   "source": [
    "import pandas as pd\n",
    "\n",
    "# the following is a CSV file of historical daily Nasdaq 100 price data sourced from Yahoo! Finance\n",
    "NDX = \"./ndx.csv\""
   ]
  },
  {
   "cell_type": "code",
   "execution_count": 2,
   "id": "5b491294",
   "metadata": {},
   "outputs": [
    {
     "data": {
      "text/html": [
       "<div>\n",
       "<style scoped>\n",
       "    .dataframe tbody tr th:only-of-type {\n",
       "        vertical-align: middle;\n",
       "    }\n",
       "\n",
       "    .dataframe tbody tr th {\n",
       "        vertical-align: top;\n",
       "    }\n",
       "\n",
       "    .dataframe thead th {\n",
       "        text-align: right;\n",
       "    }\n",
       "</style>\n",
       "<table border=\"1\" class=\"dataframe\">\n",
       "  <thead>\n",
       "    <tr style=\"text-align: right;\">\n",
       "      <th></th>\n",
       "      <th>close</th>\n",
       "      <th>dailyReturn</th>\n",
       "    </tr>\n",
       "    <tr>\n",
       "      <th>date</th>\n",
       "      <th></th>\n",
       "      <th></th>\n",
       "    </tr>\n",
       "  </thead>\n",
       "  <tbody>\n",
       "    <tr>\n",
       "      <th>1985-10-01</th>\n",
       "      <td>112.139999</td>\n",
       "      <td>NaN</td>\n",
       "    </tr>\n",
       "    <tr>\n",
       "      <th>1985-10-02</th>\n",
       "      <td>110.824997</td>\n",
       "      <td>-0.011726</td>\n",
       "    </tr>\n",
       "    <tr>\n",
       "      <th>1985-10-03</th>\n",
       "      <td>110.870003</td>\n",
       "      <td>0.000406</td>\n",
       "    </tr>\n",
       "    <tr>\n",
       "      <th>1985-10-04</th>\n",
       "      <td>110.074997</td>\n",
       "      <td>-0.007171</td>\n",
       "    </tr>\n",
       "    <tr>\n",
       "      <th>1985-10-07</th>\n",
       "      <td>108.199997</td>\n",
       "      <td>-0.017034</td>\n",
       "    </tr>\n",
       "  </tbody>\n",
       "</table>\n",
       "</div>"
      ],
      "text/plain": [
       "                 close  dailyReturn\n",
       "date                               \n",
       "1985-10-01  112.139999          NaN\n",
       "1985-10-02  110.824997    -0.011726\n",
       "1985-10-03  110.870003     0.000406\n",
       "1985-10-04  110.074997    -0.007171\n",
       "1985-10-07  108.199997    -0.017034"
      ]
     },
     "execution_count": 2,
     "metadata": {},
     "output_type": "execute_result"
    }
   ],
   "source": [
    "#read in the CSV file and calculate daily returns\n",
    "ndx = pd.read_csv(NDX, index_col=0, parse_dates=True, usecols= [0,5], header=0, names=['date', 'close'])\n",
    "ndx['dailyReturn'] = ndx['close'].pct_change()\n",
    "ndx.head()"
   ]
  },
  {
   "cell_type": "code",
   "execution_count": 3,
   "id": "661fe515",
   "metadata": {},
   "outputs": [
    {
     "data": {
      "text/html": [
       "<div>\n",
       "<style scoped>\n",
       "    .dataframe tbody tr th:only-of-type {\n",
       "        vertical-align: middle;\n",
       "    }\n",
       "\n",
       "    .dataframe tbody tr th {\n",
       "        vertical-align: top;\n",
       "    }\n",
       "\n",
       "    .dataframe thead th {\n",
       "        text-align: right;\n",
       "    }\n",
       "</style>\n",
       "<table border=\"1\" class=\"dataframe\">\n",
       "  <thead>\n",
       "    <tr style=\"text-align: right;\">\n",
       "      <th></th>\n",
       "      <th>monthlyReturn</th>\n",
       "    </tr>\n",
       "    <tr>\n",
       "      <th>date</th>\n",
       "      <th></th>\n",
       "    </tr>\n",
       "  </thead>\n",
       "  <tbody>\n",
       "    <tr>\n",
       "      <th>1985-10-31</th>\n",
       "      <td>0.029784</td>\n",
       "    </tr>\n",
       "    <tr>\n",
       "      <th>1985-11-30</th>\n",
       "      <td>0.091618</td>\n",
       "    </tr>\n",
       "    <tr>\n",
       "      <th>1985-12-31</th>\n",
       "      <td>0.049461</td>\n",
       "    </tr>\n",
       "    <tr>\n",
       "      <th>1986-01-31</th>\n",
       "      <td>0.004762</td>\n",
       "    </tr>\n",
       "    <tr>\n",
       "      <th>1986-02-28</th>\n",
       "      <td>0.056423</td>\n",
       "    </tr>\n",
       "  </tbody>\n",
       "</table>\n",
       "</div>"
      ],
      "text/plain": [
       "            monthlyReturn\n",
       "date                     \n",
       "1985-10-31       0.029784\n",
       "1985-11-30       0.091618\n",
       "1985-12-31       0.049461\n",
       "1986-01-31       0.004762\n",
       "1986-02-28       0.056423"
      ]
     },
     "execution_count": 3,
     "metadata": {},
     "output_type": "execute_result"
    }
   ],
   "source": [
    "#resample daily data to calulate monthly returns\n",
    "ndxm = pd.DataFrame(ndx.dailyReturn.resample(\"M\").apply(lambda x: ((x + 1).cumprod() - 1).last(\"D\")))\n",
    "ndxm.rename(columns={'dailyReturn': 'monthlyReturn'}, inplace=True)\n",
    "ndxm.head()"
   ]
  },
  {
   "cell_type": "markdown",
   "id": "cade3297",
   "metadata": {},
   "source": [
    "following are two implementations of function ```downMonths```, which is meant to aggregate consecutive negative returns. I am not happy with either of them. One uses a global variable, which feels clumsy. The other is recursive and therefore probably inefficient. But which is better? And is there a superior alternative to both?"
   ]
  },
  {
   "cell_type": "code",
   "execution_count": 4,
   "id": "ae1f80e2",
   "metadata": {},
   "outputs": [],
   "source": [
    "# counter = 0\n",
    "# def downMonths(x):\n",
    "#     global counter\n",
    "#     if x['monthlyReturn'] >= 0:\n",
    "#         counter = 0\n",
    "#         return counter\n",
    "#     else:\n",
    "#         counter += 1\n",
    "#         return counter\n",
    "        "
   ]
  },
  {
   "cell_type": "code",
   "execution_count": 5,
   "id": "618df958",
   "metadata": {},
   "outputs": [],
   "source": [
    "def downMonths(x):\n",
    "    index = ndxm.index.get_loc(x.name)\n",
    "    if index == 0:\n",
    "        return 0\n",
    "    prev_x = ndxm.iloc[index-1]\n",
    "    if x['monthlyReturn'] >= 0:\n",
    "        return 0\n",
    "    else:\n",
    "        return downMonths(prev_x) + 1\n"
   ]
  },
  {
   "cell_type": "code",
   "execution_count": 6,
   "id": "775ca1f4",
   "metadata": {},
   "outputs": [
    {
     "data": {
      "text/html": [
       "<div>\n",
       "<style scoped>\n",
       "    .dataframe tbody tr th:only-of-type {\n",
       "        vertical-align: middle;\n",
       "    }\n",
       "\n",
       "    .dataframe tbody tr th {\n",
       "        vertical-align: top;\n",
       "    }\n",
       "\n",
       "    .dataframe thead th {\n",
       "        text-align: right;\n",
       "    }\n",
       "</style>\n",
       "<table border=\"1\" class=\"dataframe\">\n",
       "  <thead>\n",
       "    <tr style=\"text-align: right;\">\n",
       "      <th></th>\n",
       "      <th>monthlyReturn</th>\n",
       "      <th>downMonths</th>\n",
       "    </tr>\n",
       "    <tr>\n",
       "      <th>date</th>\n",
       "      <th></th>\n",
       "      <th></th>\n",
       "    </tr>\n",
       "  </thead>\n",
       "  <tbody>\n",
       "    <tr>\n",
       "      <th>1985-10-31</th>\n",
       "      <td>0.029784</td>\n",
       "      <td>0</td>\n",
       "    </tr>\n",
       "    <tr>\n",
       "      <th>1985-11-30</th>\n",
       "      <td>0.091618</td>\n",
       "      <td>0</td>\n",
       "    </tr>\n",
       "    <tr>\n",
       "      <th>1985-12-31</th>\n",
       "      <td>0.049461</td>\n",
       "      <td>0</td>\n",
       "    </tr>\n",
       "    <tr>\n",
       "      <th>1986-01-31</th>\n",
       "      <td>0.004762</td>\n",
       "      <td>0</td>\n",
       "    </tr>\n",
       "    <tr>\n",
       "      <th>1986-02-28</th>\n",
       "      <td>0.056423</td>\n",
       "      <td>0</td>\n",
       "    </tr>\n",
       "    <tr>\n",
       "      <th>...</th>\n",
       "      <td>...</td>\n",
       "      <td>...</td>\n",
       "    </tr>\n",
       "    <tr>\n",
       "      <th>2021-11-30</th>\n",
       "      <td>0.018009</td>\n",
       "      <td>0</td>\n",
       "    </tr>\n",
       "    <tr>\n",
       "      <th>2021-12-31</th>\n",
       "      <td>0.011413</td>\n",
       "      <td>0</td>\n",
       "    </tr>\n",
       "    <tr>\n",
       "      <th>2022-01-31</th>\n",
       "      <td>-0.085173</td>\n",
       "      <td>1</td>\n",
       "    </tr>\n",
       "    <tr>\n",
       "      <th>2022-02-28</th>\n",
       "      <td>-0.046366</td>\n",
       "      <td>2</td>\n",
       "    </tr>\n",
       "    <tr>\n",
       "      <th>2022-03-31</th>\n",
       "      <td>-0.065739</td>\n",
       "      <td>3</td>\n",
       "    </tr>\n",
       "  </tbody>\n",
       "</table>\n",
       "<p>438 rows × 2 columns</p>\n",
       "</div>"
      ],
      "text/plain": [
       "            monthlyReturn  downMonths\n",
       "date                                 \n",
       "1985-10-31       0.029784           0\n",
       "1985-11-30       0.091618           0\n",
       "1985-12-31       0.049461           0\n",
       "1986-01-31       0.004762           0\n",
       "1986-02-28       0.056423           0\n",
       "...                   ...         ...\n",
       "2021-11-30       0.018009           0\n",
       "2021-12-31       0.011413           0\n",
       "2022-01-31      -0.085173           1\n",
       "2022-02-28      -0.046366           2\n",
       "2022-03-31      -0.065739           3\n",
       "\n",
       "[438 rows x 2 columns]"
      ]
     },
     "execution_count": 6,
     "metadata": {},
     "output_type": "execute_result"
    }
   ],
   "source": [
    "ndxm['downMonths'] = ndxm.apply(downMonths, axis=1)\n",
    "ndxm"
   ]
  },
  {
   "cell_type": "code",
   "execution_count": 7,
   "id": "63575c75",
   "metadata": {},
   "outputs": [
    {
     "data": {
      "text/plain": [
       "date\n",
       "1990-10-31    4\n",
       "2000-12-31    4\n",
       "2002-07-31    4\n",
       "2002-08-31    5\n",
       "2002-09-30    6\n",
       "2005-04-30    4\n",
       "2006-07-31    4\n",
       "2008-02-29    4\n",
       "2018-12-31    4\n",
       "Name: downMonths, dtype: int64"
      ]
     },
     "execution_count": 7,
     "metadata": {},
     "output_type": "execute_result"
    }
   ],
   "source": [
    "ndxm.loc[ndxm.downMonths >=4,'downMonths']"
   ]
  },
  {
   "cell_type": "code",
   "execution_count": null,
   "id": "bc9ffdb3",
   "metadata": {},
   "outputs": [],
   "source": []
  }
 ],
 "metadata": {
  "kernelspec": {
   "display_name": "Python 3.9.7 ('bt')",
   "language": "python",
   "name": "python397jvsc74a57bd05e891842b717e472465143aae6002e96897451d8204cf84f0917710009a4732e"
  },
  "language_info": {
   "codemirror_mode": {
    "name": "ipython",
    "version": 3
   },
   "file_extension": ".py",
   "mimetype": "text/x-python",
   "name": "python",
   "nbconvert_exporter": "python",
   "pygments_lexer": "ipython3",
   "version": "3.9.7"
  }
 },
 "nbformat": 4,
 "nbformat_minor": 5
}
