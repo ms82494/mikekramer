{
 "cells": [
  {
   "cell_type": "code",
   "execution_count": 1,
   "id": "e0cb3f4f",
   "metadata": {},
   "outputs": [],
   "source": [
    "import pandas as pd\n",
    "\n",
    "NDX = \"./ndx.csv\""
   ]
  },
  {
   "cell_type": "code",
   "execution_count": 2,
   "id": "5b491294",
   "metadata": {},
   "outputs": [],
   "source": [
    "ndx = pd.read_csv(NDX, index_col=0, parse_dates=True, usecols= [0,5], header=0, names=['date', 'close'])\n",
    "ndx['dailyReturn'] = ndx['close'].pct_change()"
   ]
  },
  {
   "cell_type": "code",
   "execution_count": 3,
   "id": "661fe515",
   "metadata": {},
   "outputs": [],
   "source": [
    "ndxm = pd.DataFrame(ndx.dailyReturn.resample(\"M\").apply(lambda x: ((x + 1).cumprod() - 1).last(\"D\")))\n",
    "ndxm.rename(columns={'dailyReturn': 'monthlyReturn'}, inplace=True)\n",
    "ndxm['downMonths'] = 0\n",
    "# ndxm['downMonths'] = 0 if (ndxm.monthlyReturn >= 0) else (ndxm.downMonths.shift(1) + 1)"
   ]
  },
  {
   "cell_type": "code",
   "execution_count": 4,
   "id": "ae1f80e2",
   "metadata": {},
   "outputs": [],
   "source": [
    "counter = 0\n",
    "def incrDownMonths(x):\n",
    "    global counter\n",
    "    if x['monthlyReturn'] >= 0:\n",
    "        counter = 0\n",
    "        return counter\n",
    "    else:\n",
    "        counter += 1\n",
    "        return counter\n",
    "        "
   ]
  },
  {
   "cell_type": "code",
   "execution_count": 5,
   "id": "775ca1f4",
   "metadata": {},
   "outputs": [],
   "source": [
    "ndxm['downMonths'] = ndxm.apply(incrDownMonths, axis=1)"
   ]
  },
  {
   "cell_type": "code",
   "execution_count": 6,
   "id": "b137c0ba",
   "metadata": {},
   "outputs": [
    {
     "data": {
      "text/html": [
       "<div>\n",
       "<style scoped>\n",
       "    .dataframe tbody tr th:only-of-type {\n",
       "        vertical-align: middle;\n",
       "    }\n",
       "\n",
       "    .dataframe tbody tr th {\n",
       "        vertical-align: top;\n",
       "    }\n",
       "\n",
       "    .dataframe thead th {\n",
       "        text-align: right;\n",
       "    }\n",
       "</style>\n",
       "<table border=\"1\" class=\"dataframe\">\n",
       "  <thead>\n",
       "    <tr style=\"text-align: right;\">\n",
       "      <th></th>\n",
       "      <th>monthlyReturn</th>\n",
       "      <th>downMonths</th>\n",
       "    </tr>\n",
       "    <tr>\n",
       "      <th>date</th>\n",
       "      <th></th>\n",
       "      <th></th>\n",
       "    </tr>\n",
       "  </thead>\n",
       "  <tbody>\n",
       "    <tr>\n",
       "      <th>1985-10-31</th>\n",
       "      <td>0.029784</td>\n",
       "      <td>0</td>\n",
       "    </tr>\n",
       "    <tr>\n",
       "      <th>1985-11-30</th>\n",
       "      <td>0.091618</td>\n",
       "      <td>0</td>\n",
       "    </tr>\n",
       "    <tr>\n",
       "      <th>1985-12-31</th>\n",
       "      <td>0.049461</td>\n",
       "      <td>0</td>\n",
       "    </tr>\n",
       "    <tr>\n",
       "      <th>1986-01-31</th>\n",
       "      <td>0.004762</td>\n",
       "      <td>0</td>\n",
       "    </tr>\n",
       "    <tr>\n",
       "      <th>1986-02-28</th>\n",
       "      <td>0.056423</td>\n",
       "      <td>0</td>\n",
       "    </tr>\n",
       "    <tr>\n",
       "      <th>...</th>\n",
       "      <td>...</td>\n",
       "      <td>...</td>\n",
       "    </tr>\n",
       "    <tr>\n",
       "      <th>2021-11-30</th>\n",
       "      <td>0.018009</td>\n",
       "      <td>0</td>\n",
       "    </tr>\n",
       "    <tr>\n",
       "      <th>2021-12-31</th>\n",
       "      <td>0.011413</td>\n",
       "      <td>0</td>\n",
       "    </tr>\n",
       "    <tr>\n",
       "      <th>2022-01-31</th>\n",
       "      <td>-0.085173</td>\n",
       "      <td>1</td>\n",
       "    </tr>\n",
       "    <tr>\n",
       "      <th>2022-02-28</th>\n",
       "      <td>-0.046366</td>\n",
       "      <td>2</td>\n",
       "    </tr>\n",
       "    <tr>\n",
       "      <th>2022-03-31</th>\n",
       "      <td>-0.065739</td>\n",
       "      <td>3</td>\n",
       "    </tr>\n",
       "  </tbody>\n",
       "</table>\n",
       "<p>438 rows × 2 columns</p>\n",
       "</div>"
      ],
      "text/plain": [
       "            monthlyReturn  downMonths\n",
       "date                                 \n",
       "1985-10-31       0.029784           0\n",
       "1985-11-30       0.091618           0\n",
       "1985-12-31       0.049461           0\n",
       "1986-01-31       0.004762           0\n",
       "1986-02-28       0.056423           0\n",
       "...                   ...         ...\n",
       "2021-11-30       0.018009           0\n",
       "2021-12-31       0.011413           0\n",
       "2022-01-31      -0.085173           1\n",
       "2022-02-28      -0.046366           2\n",
       "2022-03-31      -0.065739           3\n",
       "\n",
       "[438 rows x 2 columns]"
      ]
     },
     "execution_count": 6,
     "metadata": {},
     "output_type": "execute_result"
    }
   ],
   "source": [
    "ndxm"
   ]
  },
  {
   "cell_type": "code",
   "execution_count": 7,
   "id": "554de53b",
   "metadata": {},
   "outputs": [
    {
     "data": {
      "text/plain": [
       "date\n",
       "1990-10-31    4\n",
       "2000-12-31    4\n",
       "2002-07-31    4\n",
       "2002-08-31    5\n",
       "2002-09-30    6\n",
       "2005-04-30    4\n",
       "2006-07-31    4\n",
       "2008-02-29    4\n",
       "2018-12-31    4\n",
       "Name: downMonths, dtype: int64"
      ]
     },
     "execution_count": 7,
     "metadata": {},
     "output_type": "execute_result"
    }
   ],
   "source": [
    "ndxm.loc[ndxm.downMonths >=4,'downMonths']"
   ]
  },
  {
   "cell_type": "code",
   "execution_count": null,
   "id": "408a2800",
   "metadata": {},
   "outputs": [],
   "source": []
  }
 ],
 "metadata": {
  "kernelspec": {
   "display_name": "Python 3.8.12 64-bit (conda)",
   "language": "python",
   "name": "python3812jvsc74a57bd0f0f0111e02314f25f930bab5ecd88e17321e62ba2250cfc411b92edb4496627f"
  },
  "language_info": {
   "codemirror_mode": {
    "name": "ipython",
    "version": 3
   },
   "file_extension": ".py",
   "mimetype": "text/x-python",
   "name": "python",
   "nbconvert_exporter": "python",
   "pygments_lexer": "ipython3",
   "version": "3.8.12"
  }
 },
 "nbformat": 4,
 "nbformat_minor": 5
}
