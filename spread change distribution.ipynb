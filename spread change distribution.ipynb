{
 "cells": [
  {
   "cell_type": "code",
   "execution_count": 1,
   "id": "e25b6cd3",
   "metadata": {},
   "outputs": [
    {
     "data": {
      "text/html": [
       "<div>\n",
       "<style scoped>\n",
       "    .dataframe tbody tr th:only-of-type {\n",
       "        vertical-align: middle;\n",
       "    }\n",
       "\n",
       "    .dataframe tbody tr th {\n",
       "        vertical-align: top;\n",
       "    }\n",
       "\n",
       "    .dataframe thead th {\n",
       "        text-align: right;\n",
       "    }\n",
       "</style>\n",
       "<table border=\"1\" class=\"dataframe\">\n",
       "  <thead>\n",
       "    <tr style=\"text-align: right;\">\n",
       "      <th></th>\n",
       "      <th>yield02</th>\n",
       "      <th>yield30</th>\n",
       "      <th>spread30_02</th>\n",
       "    </tr>\n",
       "    <tr>\n",
       "      <th>date</th>\n",
       "      <th></th>\n",
       "      <th></th>\n",
       "      <th></th>\n",
       "    </tr>\n",
       "  </thead>\n",
       "  <tbody>\n",
       "    <tr>\n",
       "      <th>1977-02-18</th>\n",
       "      <td>6.03</td>\n",
       "      <td>7.70</td>\n",
       "      <td>1.67</td>\n",
       "    </tr>\n",
       "    <tr>\n",
       "      <th>1977-02-25</th>\n",
       "      <td>6.14</td>\n",
       "      <td>7.80</td>\n",
       "      <td>1.66</td>\n",
       "    </tr>\n",
       "    <tr>\n",
       "      <th>1977-03-04</th>\n",
       "      <td>6.11</td>\n",
       "      <td>7.81</td>\n",
       "      <td>1.70</td>\n",
       "    </tr>\n",
       "    <tr>\n",
       "      <th>1977-03-11</th>\n",
       "      <td>6.12</td>\n",
       "      <td>7.82</td>\n",
       "      <td>1.70</td>\n",
       "    </tr>\n",
       "    <tr>\n",
       "      <th>1977-03-18</th>\n",
       "      <td>6.08</td>\n",
       "      <td>7.78</td>\n",
       "      <td>1.70</td>\n",
       "    </tr>\n",
       "    <tr>\n",
       "      <th>...</th>\n",
       "      <td>...</td>\n",
       "      <td>...</td>\n",
       "      <td>...</td>\n",
       "    </tr>\n",
       "    <tr>\n",
       "      <th>2022-08-12</th>\n",
       "      <td>3.24</td>\n",
       "      <td>3.06</td>\n",
       "      <td>-0.18</td>\n",
       "    </tr>\n",
       "    <tr>\n",
       "      <th>2022-08-19</th>\n",
       "      <td>3.24</td>\n",
       "      <td>3.14</td>\n",
       "      <td>-0.10</td>\n",
       "    </tr>\n",
       "    <tr>\n",
       "      <th>2022-08-26</th>\n",
       "      <td>3.34</td>\n",
       "      <td>3.26</td>\n",
       "      <td>-0.08</td>\n",
       "    </tr>\n",
       "    <tr>\n",
       "      <th>2022-09-02</th>\n",
       "      <td>3.45</td>\n",
       "      <td>3.29</td>\n",
       "      <td>-0.16</td>\n",
       "    </tr>\n",
       "    <tr>\n",
       "      <th>2022-09-09</th>\n",
       "      <td>3.50</td>\n",
       "      <td>3.46</td>\n",
       "      <td>-0.04</td>\n",
       "    </tr>\n",
       "  </tbody>\n",
       "</table>\n",
       "<p>2378 rows × 3 columns</p>\n",
       "</div>"
      ],
      "text/plain": [
       "            yield02  yield30  spread30_02\n",
       "date                                     \n",
       "1977-02-18     6.03     7.70         1.67\n",
       "1977-02-25     6.14     7.80         1.66\n",
       "1977-03-04     6.11     7.81         1.70\n",
       "1977-03-11     6.12     7.82         1.70\n",
       "1977-03-18     6.08     7.78         1.70\n",
       "...             ...      ...          ...\n",
       "2022-08-12     3.24     3.06        -0.18\n",
       "2022-08-19     3.24     3.14        -0.10\n",
       "2022-08-26     3.34     3.26        -0.08\n",
       "2022-09-02     3.45     3.29        -0.16\n",
       "2022-09-09     3.50     3.46        -0.04\n",
       "\n",
       "[2378 rows x 3 columns]"
      ]
     },
     "execution_count": 1,
     "metadata": {},
     "output_type": "execute_result"
    }
   ],
   "source": [
    "import numpy as np\n",
    "import pandas as pd\n",
    "import pandas_datareader.data as web\n",
    "from datetime import datetime, date\n",
    "from fitter import Fitter, get_common_distributions, get_distributions\n",
    "from scipy.stats import lognorm, norm, triang, genhyperbolic, burr12\n",
    "from statsmodels.tsa.stattools import adfuller\n",
    "import statsmodels.api as sm\n",
    "from statsmodels.graphics.tsaplots import plot_acf, plot_pacf\n",
    "\n",
    "start = date(1950,1,1)\n",
    "end = datetime.today()\n",
    "\n",
    "fred_series = {'yield02':  'WGS2YR',\n",
    "               'yield30':  'WGS30YR'}\n",
    "\n",
    "\n",
    "df = web.DataReader(fred_series.values(), 'fred', start, end)\n",
    "df.columns = fred_series.keys()\n",
    "df.index.name = 'date'\n",
    "df.dropna(inplace=True)\n",
    "spreadName = \"spread\" + df.columns[1][5:] + \"_\" + df.columns[0][5:]\n",
    "df[spreadName] = df[df.columns[1]] - df[df.columns[0]]\n",
    "df"
   ]
  },
  {
   "cell_type": "code",
   "execution_count": 2,
   "id": "a69e3046",
   "metadata": {},
   "outputs": [
    {
     "data": {
      "text/plain": [
       "{'adf': -2.6000057372732557,\n",
       " 'pvalue': 0.09299608166670531,\n",
       " 'usedlag': 22,\n",
       " 'nobs': 2355,\n",
       " 'criticalvalues': {'1%': -3.4331298055777806,\n",
       "  '5%': -2.862768070104647,\n",
       "  '10%': -2.567423754896525},\n",
       " 'icbest': -4171.175152135478}"
      ]
     },
     "execution_count": 2,
     "metadata": {},
     "output_type": "execute_result"
    }
   ],
   "source": [
    "adf_results = ['adf', 'pvalue', 'usedlag', 'nobs', 'critical' 'values', 'icbest']\n",
    "result=adfuller(df[spreadName])\n",
    "dict(zip(adf_results, result))"
   ]
  },
  {
   "cell_type": "markdown",
   "id": "f7062237",
   "metadata": {},
   "source": [
    "The fact that ```pvalue``` is above 0.05 indicates lack of stationarity."
   ]
  },
  {
   "cell_type": "code",
   "execution_count": 3,
   "id": "ff18ed11",
   "metadata": {},
   "outputs": [
    {
     "data": {
      "text/plain": [
       "date\n",
       "1977-02-25   -1.000000e-02\n",
       "1977-03-04    4.000000e-02\n",
       "1977-03-11    8.881784e-16\n",
       "1977-03-18    0.000000e+00\n",
       "1977-03-25    1.000000e-02\n",
       "                  ...     \n",
       "2022-08-12   -9.000000e-02\n",
       "2022-08-19    8.000000e-02\n",
       "2022-08-26    2.000000e-02\n",
       "2022-09-02   -8.000000e-02\n",
       "2022-09-09    1.200000e-01\n",
       "Freq: W-FRI, Name: spread30_02, Length: 2377, dtype: float64"
      ]
     },
     "execution_count": 3,
     "metadata": {},
     "output_type": "execute_result"
    }
   ],
   "source": [
    "sprd_chg = df[spreadName].diff()\n",
    "sprd_chg.dropna(inplace=True)\n",
    "sprd_chg"
   ]
  },
  {
   "cell_type": "code",
   "execution_count": 4,
   "id": "5a249715",
   "metadata": {},
   "outputs": [
    {
     "data": {
      "text/plain": [
       "{'adf': -12.980385381844634,\n",
       " 'pvalue': 2.952166885836075e-24,\n",
       " 'usedlag': 17,\n",
       " 'nobs': 2359,\n",
       " 'criticalvalues': {'1%': -3.433125086901646,\n",
       "  '5%': -2.8627659864448662,\n",
       "  '10%': -2.5674226455102995},\n",
       " 'icbest': -4164.877697969052}"
      ]
     },
     "execution_count": 4,
     "metadata": {},
     "output_type": "execute_result"
    }
   ],
   "source": [
    "result=adfuller(sprd_chg)\n",
    "dict(zip(adf_results, result))"
   ]
  },
  {
   "cell_type": "markdown",
   "id": "9f79817f",
   "metadata": {},
   "source": [
    "```pvalue``` is now down below 0.05 and ```sprd_chg``` is considered stationary."
   ]
  },
  {
   "cell_type": "code",
   "execution_count": 17,
   "id": "c7246304",
   "metadata": {},
   "outputs": [
    {
     "name": "stderr",
     "output_type": "stream",
     "text": [
      "/home/catweazle/anaconda3/lib/python3.9/site-packages/statsmodels/graphics/tsaplots.py:348: FutureWarning: The default method 'yw' can produce PACF values outside of the [-1,1] interval. After 0.13, the default will change tounadjusted Yule-Walker ('ywm'). You can use this method now by setting method='ywm'.\n",
      "  warnings.warn(\n"
     ]
    },
    {
     "data": {
      "image/png": "[encoded data removed]",
      "text/plain": [
       "<Figure size 640x480 with 1 Axes>"
      ]
     },
     "metadata": {},
     "output_type": "display_data"
    },
    {
     "data": {
      "image/png": "[encoded data removed]",
      "text/plain": [
       "<Figure size 640x480 with 1 Axes>"
      ]
     },
     "metadata": {},
     "output_type": "display_data"
    }
   ],
   "source": [
    "fig1=plot_acf(sprd_chg)\n",
    "fig2=plot_pacf(sprd_chg)"
   ]
  },
  {
   "cell_type": "code",
   "execution_count": 18,
   "id": "516216e9",
   "metadata": {},
   "outputs": [
    {
     "name": "stdout",
     "output_type": "stream",
     "text": [
      "                               SARIMAX Results                                \n",
      "==============================================================================\n",
      "Dep. Variable:            spread30_02   No. Observations:                 2378\n",
      "Model:                 ARIMA(4, 1, 6)   Log Likelihood                2123.584\n",
      "Date:                Fri, 16 Sep 2022   AIC                          -4225.169\n",
      "Time:                        15:04:01   BIC                          -4161.659\n",
      "Sample:                    02-18-1977   HQIC                         -4202.053\n",
      "                         - 09-09-2022                                         \n",
      "Covariance Type:                  opg                                         \n",
      "==============================================================================\n",
      "                 coef    std err          z      P>|z|      [0.025      0.975]\n",
      "------------------------------------------------------------------------------\n",
      "ar.L1          0.3027      0.395      0.766      0.444      -0.472       1.078\n",
      "ar.L2          0.5336      0.323      1.653      0.098      -0.099       1.166\n",
      "ar.L3         -0.3770      0.121     -3.110      0.002      -0.615      -0.139\n",
      "ar.L4         -0.3568      0.237     -1.508      0.132      -0.821       0.107\n",
      "ma.L1         -0.0402      0.396     -0.101      0.919      -0.817       0.737\n",
      "ma.L2         -0.4906      0.225     -2.183      0.029      -0.931      -0.050\n",
      "ma.L3          0.2460      0.149      1.655      0.098      -0.045       0.537\n",
      "ma.L4          0.5044      0.188      2.687      0.007       0.137       0.872\n",
      "ma.L5          0.0663      0.090      0.740      0.459      -0.109       0.242\n",
      "ma.L6          0.0177      0.029      0.601      0.548      -0.040       0.075\n",
      "sigma2         0.0098      0.000     80.437      0.000       0.010       0.010\n",
      "===================================================================================\n",
      "Ljung-Box (L1) (Q):                   0.00   Jarque-Bera (JB):             11047.98\n",
      "Prob(Q):                              0.99   Prob(JB):                         0.00\n",
      "Heteroskedasticity (H):               0.37   Skew:                            -0.06\n",
      "Prob(H) (two-sided):                  0.00   Kurtosis:                        13.56\n",
      "===================================================================================\n",
      "\n",
      "Warnings:\n",
      "[1] Covariance matrix calculated using the outer product of gradients (complex-step).\n"
     ]
    },
    {
     "name": "stderr",
     "output_type": "stream",
     "text": [
      "/home/catweazle/anaconda3/lib/python3.9/site-packages/statsmodels/base/model.py:604: ConvergenceWarning: Maximum Likelihood optimization failed to converge. Check mle_retvals\n",
      "  warnings.warn(\"Maximum Likelihood optimization failed to \"\n"
     ]
    }
   ],
   "source": [
    "mod = sm.tsa.ARIMA(df[spreadName], order = (4,1,6))\n",
    "res = mod.fit()\n",
    "print(res.summary())"
   ]
  },
  {
   "cell_type": "code",
   "execution_count": 19,
   "id": "45516678",
   "metadata": {},
   "outputs": [
    {
     "data": {
      "text/plain": [
       "<AxesSubplot:ylabel='Density'>"
      ]
     },
     "execution_count": 19,
     "metadata": {},
     "output_type": "execute_result"
    },
    {
     "data": {
      "image/png": "[encoded data removed]",
      "text/plain": [
       "<Figure size 640x480 with 1 Axes>"
      ]
     },
     "metadata": {},
     "output_type": "display_data"
    }
   ],
   "source": [
    "res.resid.plot(kind='kde')"
   ]
  },
  {
   "cell_type": "code",
   "execution_count": 20,
   "id": "fce4be34",
   "metadata": {},
   "outputs": [
    {
     "data": {
      "text/plain": [
       "date\n",
       "1977-02-18    1.670000\n",
       "1977-02-25   -0.010000\n",
       "1977-03-04    0.042820\n",
       "1977-03-11   -0.009846\n",
       "1977-03-18   -0.002573\n",
       "                ...   \n",
       "2022-08-12   -0.038915\n",
       "2022-08-19    0.114931\n",
       "2022-08-26    0.000091\n",
       "2022-09-02   -0.056271\n",
       "2022-09-09    0.132803\n",
       "Freq: W-FRI, Length: 2378, dtype: float64"
      ]
     },
     "execution_count": 20,
     "metadata": {},
     "output_type": "execute_result"
    }
   ],
   "source": [
    "res.resid"
   ]
  },
  {
   "cell_type": "code",
   "execution_count": 21,
   "id": "1e3ae62c",
   "metadata": {},
   "outputs": [
    {
     "data": {
      "text/plain": [
       "count    2377.000000\n",
       "mean       -0.000719\n",
       "std         0.104800\n",
       "min        -0.860000\n",
       "25%        -0.050000\n",
       "50%         0.000000\n",
       "75%         0.050000\n",
       "max         0.810000\n",
       "Name: spread30_02, dtype: float64"
      ]
     },
     "execution_count": 21,
     "metadata": {},
     "output_type": "execute_result"
    }
   ],
   "source": [
    "sprd_chg.describe()"
   ]
  },
  {
   "cell_type": "code",
   "execution_count": 22,
   "id": "a9e4c5a2",
   "metadata": {},
   "outputs": [
    {
     "name": "stderr",
     "output_type": "stream",
     "text": [
      "WARNING:root:SKIPPED kstwo distribution (taking more than 30 seconds)\n",
      "WARNING:root:SKIPPED johnsonsb distribution (taking more than 30 seconds)\n",
      "WARNING:root:SKIPPED kappa4 distribution (taking more than 30 seconds)\n",
      "WARNING:root:SKIPPED ksone distribution (taking more than 30 seconds)\n",
      "WARNING:root:SKIPPED levy_stable distribution (taking more than 30 seconds)\n",
      "WARNING:root:SKIPPED rv_continuous distribution (taking more than 30 seconds)\n",
      "WARNING:root:SKIPPED rv_histogram distribution (taking more than 30 seconds)\n",
      "WARNING:root:SKIPPED mielke distribution (taking more than 30 seconds)\n",
      "WARNING:root:SKIPPED ncf distribution (taking more than 30 seconds)\n",
      "WARNING:root:SKIPPED nct distribution (taking more than 30 seconds)\n",
      "/home/catweazle/anaconda3/lib/python3.9/site-packages/scipy/integrate/quadpack.py:879: IntegrationWarning: The maximum number of subdivisions (50) has been achieved.\n",
      "  If increasing the limit yields no improvement it is advised to analyze \n",
      "  the integrand in order to determine the difficulties.  If the position of a \n",
      "  local difficulty can be determined (singularity, discontinuity) one will \n",
      "  probably gain from splitting up the interval and calling the integrator \n",
      "  on the subranges.  Perhaps a special-purpose integrator should be used.\n",
      "  quad_r = quad(f, low, high, args=args, full_output=self.full_output,\n",
      "WARNING:root:SKIPPED ncx2 distribution (taking more than 30 seconds)\n",
      "/home/catweazle/anaconda3/lib/python3.9/site-packages/scipy/integrate/quadpack.py:879: IntegrationWarning: The integral is probably divergent, or slowly convergent.\n",
      "  quad_r = quad(f, low, high, args=args, full_output=self.full_output,\n",
      "WARNING:root:SKIPPED powerlognorm distribution (taking more than 30 seconds)\n",
      "WARNING:root:SKIPPED studentized_range distribution (taking more than 30 seconds)\n",
      "WARNING:root:SKIPPED triang distribution (taking more than 30 seconds)\n",
      "WARNING:root:SKIPPED vonmises distribution (taking more than 30 seconds)\n",
      "WARNING:root:SKIPPED vonmises_line distribution (taking more than 30 seconds)\n"
     ]
    },
    {
     "data": {
      "text/html": [
       "<div>\n",
       "<style scoped>\n",
       "    .dataframe tbody tr th:only-of-type {\n",
       "        vertical-align: middle;\n",
       "    }\n",
       "\n",
       "    .dataframe tbody tr th {\n",
       "        vertical-align: top;\n",
       "    }\n",
       "\n",
       "    .dataframe thead th {\n",
       "        text-align: right;\n",
       "    }\n",
       "</style>\n",
       "<table border=\"1\" class=\"dataframe\">\n",
       "  <thead>\n",
       "    <tr style=\"text-align: right;\">\n",
       "      <th></th>\n",
       "      <th>sumsquare_error</th>\n",
       "      <th>aic</th>\n",
       "      <th>bic</th>\n",
       "      <th>kl_div</th>\n",
       "      <th>ks_statistic</th>\n",
       "      <th>ks_pvalue</th>\n",
       "    </tr>\n",
       "  </thead>\n",
       "  <tbody>\n",
       "    <tr>\n",
       "      <th>genhyperbolic</th>\n",
       "      <td>0.578934</td>\n",
       "      <td>957.871915</td>\n",
       "      <td>-19747.474581</td>\n",
       "      <td>inf</td>\n",
       "      <td>0.011909</td>\n",
       "      <td>0.884605</td>\n",
       "    </tr>\n",
       "    <tr>\n",
       "      <th>t</th>\n",
       "      <td>0.610766</td>\n",
       "      <td>975.730420</td>\n",
       "      <td>-19635.736943</td>\n",
       "      <td>inf</td>\n",
       "      <td>0.011271</td>\n",
       "      <td>0.919754</td>\n",
       "    </tr>\n",
       "    <tr>\n",
       "      <th>johnsonsu</th>\n",
       "      <td>0.863406</td>\n",
       "      <td>1053.142709</td>\n",
       "      <td>-18804.768108</td>\n",
       "      <td>inf</td>\n",
       "      <td>0.013719</td>\n",
       "      <td>0.756552</td>\n",
       "    </tr>\n",
       "    <tr>\n",
       "      <th>hypsecant</th>\n",
       "      <td>0.979079</td>\n",
       "      <td>1975.361869</td>\n",
       "      <td>-18521.336817</td>\n",
       "      <td>inf</td>\n",
       "      <td>0.026043</td>\n",
       "      <td>0.078065</td>\n",
       "    </tr>\n",
       "    <tr>\n",
       "      <th>tukeylambda</th>\n",
       "      <td>1.026982</td>\n",
       "      <td>1025.030541</td>\n",
       "      <td>-18399.973830</td>\n",
       "      <td>inf</td>\n",
       "      <td>0.024098</td>\n",
       "      <td>0.124284</td>\n",
       "    </tr>\n",
       "  </tbody>\n",
       "</table>\n",
       "</div>"
      ],
      "text/plain": [
       "               sumsquare_error          aic           bic  kl_div  \\\n",
       "genhyperbolic         0.578934   957.871915 -19747.474581     inf   \n",
       "t                     0.610766   975.730420 -19635.736943     inf   \n",
       "johnsonsu             0.863406  1053.142709 -18804.768108     inf   \n",
       "hypsecant             0.979079  1975.361869 -18521.336817     inf   \n",
       "tukeylambda           1.026982  1025.030541 -18399.973830     inf   \n",
       "\n",
       "               ks_statistic  ks_pvalue  \n",
       "genhyperbolic      0.011909   0.884605  \n",
       "t                  0.011271   0.919754  \n",
       "johnsonsu          0.013719   0.756552  \n",
       "hypsecant          0.026043   0.078065  \n",
       "tukeylambda        0.024098   0.124284  "
      ]
     },
     "execution_count": 22,
     "metadata": {},
     "output_type": "execute_result"
    },
    {
     "data": {
      "image/png": "[encoded data removed]",
      "text/plain": [
       "<Figure size 640x480 with 1 Axes>"
      ]
     },
     "metadata": {},
     "output_type": "display_data"
    }
   ],
   "source": [
    "f = Fitter(res.resid,\n",
    "          distributions=get_distributions())\n",
    "f.fit()\n",
    "f.summary()"
   ]
  },
  {
   "cell_type": "code",
   "execution_count": 23,
   "id": "c8d22f9d",
   "metadata": {},
   "outputs": [
    {
     "data": {
      "text/plain": [
       "'genhyperbolic'"
      ]
     },
     "execution_count": 23,
     "metadata": {},
     "output_type": "execute_result"
    }
   ],
   "source": [
    "best = f.get_best(method = 'sumsquare_error')\n",
    "best_distro = list(best.keys())[0]\n",
    "best_distro"
   ]
  },
  {
   "cell_type": "code",
   "execution_count": 24,
   "id": "cd5ac373",
   "metadata": {},
   "outputs": [
    {
     "data": {
      "text/plain": [
       "{'p': -1.4779771225986371,\n",
       " 'a': 0.043233369078007344,\n",
       " 'b': 0.03730389576401921,\n",
       " 'loc': -0.003639680634419604,\n",
       " 'scale': 0.10267662996013979}"
      ]
     },
     "execution_count": 24,
     "metadata": {},
     "output_type": "execute_result"
    }
   ],
   "source": [
    "best_parms  = best[best_distro]\n",
    "best_parms"
   ]
  },
  {
   "cell_type": "code",
   "execution_count": 25,
   "id": "d2c8d091",
   "metadata": {},
   "outputs": [],
   "source": [
    "randos = genhyperbolic.rvs(**best_parms,size=1000)"
   ]
  },
  {
   "cell_type": "code",
   "execution_count": 26,
   "id": "b6863463",
   "metadata": {},
   "outputs": [
    {
     "data": {
      "text/plain": [
       "array([ 2.02931923e-02,  2.22221656e-02, -9.37955243e-02, -1.01878735e-01,\n",
       "        1.45384457e-02, -2.01754478e-02, -6.16896961e-02,  3.41236155e-02,\n",
       "       -2.55688118e-02, -3.00348498e-02, -2.32790016e-03, -5.81275032e-02,\n",
       "        3.32578249e-02,  9.12357306e-02, -3.25325719e-02,  3.13749949e-02,\n",
       "        1.69010185e-01, -5.16150631e-02,  1.36822851e-01,  6.78608523e-02,\n",
       "        3.19020393e-02,  3.48976144e-01, -6.80645281e-03,  1.44851617e-01,\n",
       "       -1.04400441e-02, -1.69768662e-02, -3.33032583e-02, -8.14491896e-02,\n",
       "       -1.04717933e-01, -7.29265500e-02, -1.76983498e-02,  2.40085763e-02,\n",
       "       -1.45633416e-03, -8.26252100e-03,  8.97221338e-02,  9.39594710e-02,\n",
       "       -3.27559215e-03,  6.10410243e-02, -1.01117019e-02, -1.77591386e-02,\n",
       "       -7.93206451e-02, -1.71961892e-01, -6.95898199e-03, -3.87844566e-02,\n",
       "       -1.11980222e-01,  2.96554392e-02, -1.08186151e-01,  7.86444870e-02,\n",
       "       -3.12184560e-02,  4.71902730e-02, -9.77093308e-03, -1.33586251e-01,\n",
       "       -3.87202472e-03, -5.07280049e-02, -3.50328868e-02, -1.53259503e-02,\n",
       "        8.83045103e-02, -1.91155848e-01, -1.21187707e-02,  6.45039387e-02,\n",
       "       -4.55814672e-02, -9.77010407e-02,  2.30351941e-02, -3.89527856e-02,\n",
       "        6.73526709e-02, -2.86727558e-02, -1.47862230e-01,  2.93116960e-02,\n",
       "        2.81856962e-02, -3.88436630e-03, -4.92710472e-02,  8.07819381e-03,\n",
       "       -4.12946897e-02,  8.45864783e-02,  6.73939608e-02,  1.29712727e-03,\n",
       "        1.32696030e-02,  7.24728904e-02,  3.77159917e-02,  5.72337381e-02,\n",
       "        1.21430955e-02,  1.66571506e-03,  4.02594678e-03,  4.65137947e-02,\n",
       "        5.86927611e-02, -5.00144343e-02, -5.54989556e-02,  1.01781249e-01,\n",
       "        1.06247971e-01,  2.83406714e-02, -1.70898188e-02, -6.53349359e-02,\n",
       "       -3.10063826e-02, -3.69685709e-02,  3.40273866e-02,  7.54917064e-02,\n",
       "        5.89647502e-02,  2.05209069e-02, -4.64713006e-02, -1.33137526e-01,\n",
       "       -7.23144587e-02,  5.98581070e-03, -7.83249927e-02, -1.36195199e-02,\n",
       "        1.25888153e-02, -9.13614124e-03, -2.05200211e-02,  5.50036294e-02,\n",
       "       -4.86089018e-02,  3.82910981e-03, -5.82424846e-03, -3.63477792e-02,\n",
       "        2.94077068e-02, -1.07298974e-01, -2.76626879e-01,  4.71172022e-02,\n",
       "        8.15983036e-03,  4.82486430e-02,  1.02754387e-01,  5.09587339e-03,\n",
       "        5.60648796e-02,  8.23778993e-03, -3.20623089e-02,  2.21348357e-02,\n",
       "        4.74172787e-03, -6.70739959e-02, -1.47919598e-02, -1.17525143e-02,\n",
       "       -1.22999033e-02, -9.57372802e-02,  5.04309927e-02,  1.37170924e-01,\n",
       "        7.51068944e-03,  3.10288779e-02,  3.69614916e-02,  5.36089830e-02,\n",
       "        2.07906313e-02,  1.44624889e-02, -7.37968678e-03,  3.20898017e-03,\n",
       "        1.98526246e-02, -5.29039262e-02, -8.07304804e-02,  2.37356262e-02,\n",
       "        2.67509870e-02,  1.15258896e-01, -1.34117190e-02, -3.13684372e-02,\n",
       "        2.58339152e-02,  1.96312291e-01, -5.36108883e-02,  1.62990018e-01,\n",
       "        1.77817382e-01, -2.04491942e-01,  2.05048853e-02,  6.49342061e-02,\n",
       "        3.40172682e-02, -1.01213704e-01, -5.41219610e-02,  3.92863965e-02,\n",
       "        1.34273090e-01, -4.64128864e-02, -1.71887296e-01,  4.58488161e-02,\n",
       "        1.11036287e-01,  4.76020981e-02, -2.99326547e-01,  4.36064385e-02,\n",
       "       -6.93794959e-02,  4.31985180e-01,  1.08221169e-01,  2.40771859e-01,\n",
       "        9.88226330e-02, -1.75570299e-02,  1.27369389e-01, -1.87794169e-01,\n",
       "       -5.40534892e-03,  1.33036318e-02,  1.09165449e-01,  7.28582555e-02,\n",
       "        1.16856456e-01,  1.96114635e-02,  1.60380783e-02,  7.00335335e-02,\n",
       "       -8.14791968e-02, -1.89892906e-02,  7.27503433e-02,  6.25572568e-02,\n",
       "        1.05431206e-01,  5.18790354e-02, -1.04038826e-01,  6.79810950e-02,\n",
       "       -8.58686100e-02,  1.76001576e-02, -6.45791752e-02,  2.26123784e-02,\n",
       "       -5.25088746e-02,  7.48790486e-02, -1.10608080e-01, -1.69177039e-02,\n",
       "        9.79957419e-02,  1.10982117e-01, -8.37841428e-02,  4.95204894e-02,\n",
       "       -5.12837639e-02, -1.34316856e-01,  2.54149269e-01,  6.93827635e-02,\n",
       "        3.62270264e-02,  6.77221377e-02,  1.12566415e-03, -1.50904570e-02,\n",
       "       -5.89474668e-02,  2.82553397e-01, -4.01450946e-02, -2.11118818e-02,\n",
       "       -4.53094558e-02, -1.30008297e-02, -3.79782237e-02,  4.97922358e-03,\n",
       "       -2.18636442e-02, -8.98968329e-02, -5.17924717e-03,  9.47187425e-02,\n",
       "        1.84167414e-02,  6.70791509e-02,  1.24392730e-01, -1.52293405e-02,\n",
       "        1.79313038e-02,  6.91331599e-02, -2.07068012e-02,  1.71983975e-02,\n",
       "       -1.94743374e-02, -6.77700044e-01, -5.02725027e-01, -6.82739893e-03,\n",
       "       -8.33192730e-02, -8.54754145e-02,  1.07679306e-01,  7.20896336e-03,\n",
       "       -4.46009573e-02,  4.78174533e-02,  1.50144996e-03, -1.33001668e-01,\n",
       "        1.28851177e-01, -1.41596609e-01, -1.51365461e-02, -4.42678991e-02,\n",
       "       -2.09314634e-02,  2.43556533e-02, -2.24616311e-02,  3.23633214e-02,\n",
       "       -3.02084172e-02, -1.88106143e-02,  4.94972857e-02, -8.32610339e-03,\n",
       "       -8.51017857e-02,  9.62488254e-03, -8.35948912e-02, -8.25310418e-02,\n",
       "       -2.29169377e-01,  4.31915695e-02, -2.36802577e-02,  1.56462671e-01,\n",
       "        2.95802206e-02,  1.82428205e-02,  1.68406403e-02,  4.68268864e-02,\n",
       "        1.50486586e-01, -8.22082603e-03,  1.03738414e-01,  5.37533173e-02,\n",
       "        1.16478279e-01,  7.17932974e-02,  7.65769395e-02, -3.89496446e-02,\n",
       "       -5.46117225e-02, -1.21097920e-01,  4.13863941e-01, -5.67460491e-02,\n",
       "        9.81676840e-02, -1.02663834e-02, -5.82431330e-02,  5.76077991e-02,\n",
       "       -1.28955569e-01,  3.59540684e-02, -8.52280496e-02, -4.11683970e-02,\n",
       "        1.55289638e-01,  1.90835835e-02, -3.02351760e-02,  7.90793149e-02,\n",
       "       -3.53794482e-02, -1.67218496e-01,  1.07293121e-02, -1.36095225e-02,\n",
       "       -2.55779327e-02,  2.25821684e-01, -3.41102851e-02, -7.93803354e-02,\n",
       "       -4.59747608e-02,  1.29293323e-02,  5.66772305e-03,  1.35412458e-01,\n",
       "       -1.41079069e-02, -2.46333859e-02, -4.13012491e-02, -5.30399974e-02,\n",
       "        2.71420643e-02,  3.09773186e-02, -2.93329557e-02,  3.31069611e-02,\n",
       "       -1.34098522e-01, -4.92495949e-02,  1.25449770e-02,  4.50817914e-02,\n",
       "       -6.43869127e-02, -2.41242331e-02,  1.22784087e-01, -1.13561985e-03,\n",
       "        1.16796424e-01,  1.63775083e-02,  2.76150787e-02, -2.16917222e-02,\n",
       "        8.16191172e-02, -6.46983416e-02, -1.25009079e-02,  1.34328862e-01,\n",
       "        8.62784262e-02,  7.63905701e-02,  5.07425145e-02, -7.56464081e-03,\n",
       "        1.51024895e-01, -2.68424008e-02,  5.33055992e-02,  1.00539439e-01,\n",
       "       -1.78211250e-02, -1.56014892e-01,  3.80358086e-03, -8.29227874e-02,\n",
       "        1.56794884e-03,  1.04706249e-01,  9.92824270e-03, -8.93866122e-03,\n",
       "       -8.18209751e-02,  3.03218990e-02,  6.17360549e-02, -1.11506266e-01,\n",
       "       -1.22623046e-01, -2.90674225e-02, -4.40650887e-02,  4.70079108e-02,\n",
       "       -1.35925793e-01, -1.03248602e-01,  2.23754353e-02,  2.55634943e-03,\n",
       "        1.62091156e-02,  7.75396987e-02,  4.74518907e-02,  8.19420564e-03,\n",
       "       -4.73895898e-02, -1.39429311e-01,  7.72224933e-02,  3.38575405e-02,\n",
       "       -5.36389039e-02,  1.06869102e-01,  6.49506556e-04,  1.42105156e-01,\n",
       "        1.29741005e-01,  1.61521135e-02,  1.57566058e-02,  8.40152434e-02,\n",
       "       -5.07331031e-02,  1.08368071e-01, -1.36865689e-01, -1.75425882e-01,\n",
       "       -1.05844034e-01, -6.83602048e-02,  1.61828316e-04, -9.91087701e-02,\n",
       "       -2.31240402e-03,  1.24043147e-01,  6.57395516e-02, -2.20320938e-02,\n",
       "        1.03846255e-01,  4.16207067e-02,  6.01596383e-03, -4.25609211e-02,\n",
       "        6.94875553e-03, -5.06687628e-02, -6.88153790e-02,  6.41497691e-01,\n",
       "        5.09754124e-02,  3.94330740e-02, -3.46917776e-02, -2.81832941e-03,\n",
       "        2.07500410e-02, -5.91181928e-02,  5.46030240e-02,  3.45728003e-02,\n",
       "        7.65844162e-02,  1.14303880e-02,  5.61384829e-02,  1.03836087e-02,\n",
       "        8.65261174e-02,  1.11015773e-01, -3.76188155e-02,  3.55836323e-02,\n",
       "        1.03408894e-02, -7.47675833e-02, -3.97011063e-02, -4.51512982e-02,\n",
       "       -9.61738024e-02,  1.96775986e-02,  3.81020224e-02,  3.06407350e-02,\n",
       "        9.61223578e-02,  1.01175539e-01, -1.16316847e-02,  1.23785753e-02,\n",
       "        1.27099939e-02,  3.79571549e-02,  1.45968566e-01,  5.01382266e-02,\n",
       "        6.77023706e-02, -7.47644088e-02, -5.49708326e-02,  1.63893287e-01,\n",
       "        2.47033452e-02, -3.46548165e-02, -2.13153867e-02,  8.22632450e-02,\n",
       "       -5.23745494e-02,  4.21958151e-03, -3.66336261e-02, -1.10151520e-01,\n",
       "        7.19775310e-02, -3.42025343e-02, -1.10382774e-01,  9.04560460e-03,\n",
       "        4.24947533e-02, -4.43730646e-02, -3.77672926e-03, -8.82832807e-02,\n",
       "       -3.98495601e-02, -1.16844531e-01, -7.50347470e-02, -3.06632773e-02,\n",
       "        9.64747229e-03, -6.60125420e-02,  3.88894950e-02, -4.00573030e-02,\n",
       "        4.93785458e-03,  2.49018626e-03,  1.93410403e-01,  2.95747016e-02,\n",
       "        3.95438497e-02, -1.83233259e-01,  2.04188381e-02, -6.59426385e-02,\n",
       "       -1.21881901e-01,  1.37814872e-02, -9.76618106e-02, -4.85439952e-02,\n",
       "        4.87337695e-02,  6.01258623e-02,  2.25850500e-02,  1.02184461e-01,\n",
       "       -5.64461377e-02,  1.52593101e-02, -8.97615275e-02, -7.23290479e-02,\n",
       "        1.77768286e-01,  3.57645010e-02, -3.56833184e-02,  7.34889727e-02,\n",
       "       -3.09332859e-02, -7.47144400e-02, -1.99497113e-02, -2.02091222e-01,\n",
       "       -1.60082746e-01, -4.01080623e-02, -1.68868389e-01,  6.74089861e-02,\n",
       "       -5.71999649e-02,  2.65235548e-02,  1.73618402e-01,  7.26451907e-02,\n",
       "        1.96419463e-01,  5.12690880e-02, -1.46196527e-02, -2.45981536e-02,\n",
       "       -1.31158055e-03,  9.37317394e-02, -8.57920911e-03, -1.95807884e-01,\n",
       "       -1.07168440e-01, -2.86579135e-02, -8.66771532e-02,  5.23752004e-02,\n",
       "       -3.81173737e-02,  5.77964581e-02, -4.57516856e-02, -2.41028675e-01,\n",
       "        7.86791410e-02, -9.93252626e-02,  2.67730386e-03,  2.40146124e-02,\n",
       "       -1.17156898e-01, -2.12799211e-03,  1.20739774e-03,  1.11535959e-01,\n",
       "       -3.29089881e-03, -1.27152328e-01,  2.61700401e-01,  3.13010088e-02,\n",
       "        1.78432612e-02, -1.36426876e-01, -3.36076453e-03, -8.14062754e-02,\n",
       "       -5.00062175e-02,  5.25346523e-02,  1.29690031e-03,  1.10732297e-01,\n",
       "       -1.27836370e-02, -3.00359864e-03,  1.21394291e-01, -2.36114192e-02,\n",
       "       -5.87744826e-02,  1.50012688e-01, -3.47871721e-02, -2.26317183e-02,\n",
       "       -4.21496521e-02,  3.20386634e-02,  4.80643364e-02, -7.08018161e-03,\n",
       "        8.30151961e-02,  6.97202271e-02, -1.35867227e-01,  3.81455492e-02,\n",
       "       -6.13454078e-03,  8.80272969e-02, -2.29709549e-02, -2.35436400e-02,\n",
       "       -3.86243186e-02, -7.77753773e-02,  3.06245922e-02, -2.12292405e-03,\n",
       "        1.05476651e-02, -4.44033411e-04,  3.17830404e-02, -8.17724526e-02,\n",
       "       -1.08179427e-01, -1.99107212e-01,  7.77154796e-03, -6.28119974e-02,\n",
       "        1.09604444e-02, -7.81128503e-02,  6.72246652e-03, -2.92151303e-03,\n",
       "        4.26740799e-02,  8.87102998e-02,  7.49588191e-03,  6.54773157e-02,\n",
       "       -3.00485238e-02,  6.81133576e-02,  5.36801637e-03,  1.48754242e-02,\n",
       "       -2.29909647e-02,  4.78050914e-02,  1.23059136e-01, -4.53887382e-02,\n",
       "        2.04425502e-01,  6.15441015e-02,  4.88739358e-02,  2.58755794e-02,\n",
       "        4.27255039e-02, -4.07779934e-02,  2.87707458e-03, -6.95253555e-02,\n",
       "       -1.87494744e-01,  4.20355953e-02, -3.00166736e-02, -1.32004487e-01,\n",
       "       -1.10064725e-01, -7.72442950e-02, -5.72145411e-02,  1.47509503e-02,\n",
       "       -3.72185553e-02, -7.44912041e-02, -1.05239205e-01,  4.58361115e-03,\n",
       "        6.32142102e-02, -6.09579462e-02, -8.53714115e-02,  1.40800229e-02,\n",
       "       -2.16720367e-02, -6.51033634e-02, -6.00711324e-02, -1.48492807e-01,\n",
       "        8.16742732e-02,  4.26234826e-01, -2.29438376e-02, -9.41780442e-02,\n",
       "        2.41375990e-01,  6.97039681e-02, -3.28389016e-02,  3.26290758e-03,\n",
       "       -9.76092789e-02, -2.31589763e-02, -2.57661545e-01,  3.46626793e-02,\n",
       "       -3.21036179e-01, -2.43221186e-02, -2.22337777e-02, -7.64191296e-02,\n",
       "        1.34902498e-01, -1.28896251e-01, -4.68738227e-02,  1.62562782e-01,\n",
       "       -2.51993598e-02, -9.71619515e-02,  5.69802099e-02,  3.23821031e-02,\n",
       "       -3.99653045e-02,  6.97166800e-02, -4.50699823e-02, -1.13979507e-03,\n",
       "       -1.13854975e-02,  5.76120476e-03, -8.24332964e-02, -1.46469404e-01,\n",
       "       -2.03205066e-02,  4.14147577e-02, -3.49431711e-02, -4.38132202e-03,\n",
       "        5.56801831e-02, -1.75312674e-01, -6.32009110e-02,  2.45797185e-02,\n",
       "       -3.22742941e-02, -1.27450749e-01, -3.57602086e-02, -2.99880517e-02,\n",
       "       -3.18197195e-02,  7.83392736e-02,  7.69199056e-02, -1.03514372e-01,\n",
       "        3.15840277e-02, -1.72049969e-01, -2.15422640e-02,  8.50441341e-02,\n",
       "       -1.49709898e-01, -9.40677068e-02, -5.22192905e-02, -1.45225246e-02,\n",
       "       -2.05485647e-02, -1.67505365e-01, -7.74782996e-02, -1.28329711e-01,\n",
       "        4.07723707e-02,  4.54967510e-03,  1.13962657e-02, -2.18475512e-02,\n",
       "       -1.68362511e-02,  5.24628593e-02, -6.16873683e-02, -3.87810717e-02,\n",
       "       -4.68301870e-02,  1.17077460e-01,  2.33253787e-01, -1.53654363e-02,\n",
       "       -3.00294849e-02,  8.09132380e-02, -4.04629556e-02, -9.40289874e-03,\n",
       "        1.08396512e-02,  1.24239812e-02,  1.72306008e-03,  2.85388761e-02,\n",
       "        6.08309886e-02,  8.46998056e-03, -2.46911451e-02,  2.85787237e-02,\n",
       "       -1.06541634e-03,  1.02696740e-01,  6.23827259e-02,  8.14980866e-03,\n",
       "       -2.18399041e-03,  1.32075964e-01, -2.81351583e-02,  1.71436258e-02,\n",
       "       -4.08750411e-03, -7.55969970e-01, -8.44348735e-02, -4.20209143e-02,\n",
       "       -1.07355223e-01, -1.40916501e-02, -9.64790091e-02,  4.23340521e-04,\n",
       "       -3.79908939e-02,  1.55969637e-02, -9.68020653e-02,  1.29698289e-01,\n",
       "       -8.17377749e-02,  7.04706120e-02, -1.22978051e-01,  4.15142882e-02,\n",
       "       -1.85669526e-02, -7.12879525e-03, -3.96883171e-02,  1.87861878e-03,\n",
       "       -2.71614074e-02,  1.36378784e-02,  3.36922859e-01, -6.43160179e-02,\n",
       "        8.80523396e-02,  7.50195012e-02,  2.63477608e-02,  3.56963424e-02,\n",
       "       -3.79535303e-02, -9.88608132e-02, -5.80935878e-02, -6.25481385e-02,\n",
       "        8.95478421e-02, -6.63271475e-03,  4.24883425e-02,  1.43822810e-01,\n",
       "        2.70848796e-01,  1.01971452e-02,  1.07393857e-02,  2.40850644e-02,\n",
       "       -1.20034368e-01, -3.50349316e-03,  6.15446704e-03, -2.09267997e-01,\n",
       "        4.99299003e-02, -8.77046115e-03, -2.78555710e-03,  2.44606193e-02,\n",
       "       -2.41235424e-01,  2.01635249e-01, -2.06554005e-02,  5.37289825e-02,\n",
       "        5.23920334e-02,  1.90278584e-01, -6.13207448e-02,  1.10486876e-01,\n",
       "        1.53333094e-01,  6.74969609e-02,  7.72405468e-02, -7.67321197e-02,\n",
       "       -5.63346759e-02,  6.21500295e-02, -4.53713405e-02,  5.44127999e-02,\n",
       "       -3.25794607e-02,  2.79778162e-02, -1.23391595e-01,  1.84433611e-01,\n",
       "       -1.19630642e-01, -1.37687127e-02,  1.46719502e-01, -1.40801022e-01,\n",
       "       -3.11077957e-02, -4.20299540e-02, -3.25032867e-02, -2.46984306e-02,\n",
       "        5.23312175e-02, -6.25783992e-01,  9.19427799e-02, -1.23046411e-01,\n",
       "       -9.13394344e-02,  2.48879575e-01, -3.44023425e-02, -6.01451318e-03,\n",
       "       -1.28970208e-02, -3.07547063e-02, -4.79776587e-02,  2.40154285e-02,\n",
       "        6.18649127e-03, -9.26073843e-02,  4.97641728e-02,  1.37483721e-02,\n",
       "        2.17142657e-02, -7.29665695e-02, -1.81830723e-01,  6.43194109e-02,\n",
       "       -4.50432416e-01,  6.27773976e-02, -4.68588456e-02,  3.27121100e-02,\n",
       "        8.34243445e-03,  1.01326062e-01,  2.65909425e-02, -2.03762808e-01,\n",
       "       -2.55905194e-02, -3.67265585e-02, -1.77785291e-02,  1.55407395e-02,\n",
       "       -4.01964492e-02, -8.45491812e-02, -2.34395241e-02,  7.50564309e-02,\n",
       "       -2.55401525e-02, -5.17282078e-02,  1.61939352e-02, -7.17303491e-02,\n",
       "       -1.16238515e-01, -1.15415289e-01,  7.94280595e-02,  4.13921713e-02,\n",
       "       -9.30301503e-02,  1.07133389e-01, -1.39612460e-03, -2.25103994e-02,\n",
       "        1.95268550e-02, -3.98924000e-02, -6.02373270e-01, -5.48367080e-03,\n",
       "       -3.96987250e-02, -2.43875775e-02, -2.62221471e-01,  1.11633544e-01,\n",
       "        5.29414360e-03, -7.81481034e-03, -1.16006167e-01, -3.78799903e-02,\n",
       "       -4.66067019e-02, -2.70900708e-02,  4.69697656e-02, -6.37385594e-02,\n",
       "       -2.46168259e-02, -2.31952543e-02, -8.83237197e-02, -6.70069272e-02,\n",
       "        9.19059758e-02,  1.07279737e-01, -8.38620099e-02, -8.96066450e-02,\n",
       "       -2.65394184e-02, -5.44243701e-02,  1.11020950e-01, -6.66340869e-02,\n",
       "       -2.31842695e-02,  9.53081641e-03,  2.16972216e-01,  4.46963051e-02,\n",
       "        5.14846467e-02,  1.05279372e-01, -7.05978587e-02,  4.87626778e-02,\n",
       "        1.37858966e-02, -8.46373098e-02, -6.41653033e-03, -1.00477560e-03,\n",
       "        1.87984262e-02,  4.63839384e-02,  1.46339478e-02, -8.12614705e-02,\n",
       "       -5.13328722e-02,  2.29347825e-02,  2.10694972e-02, -7.46316372e-02,\n",
       "       -6.52927598e-02,  1.58692899e-01,  1.63391414e-01,  2.33282251e-02,\n",
       "       -5.70188818e-02, -2.46635588e-03,  7.55629051e-01,  4.84095777e-02,\n",
       "        1.52942853e-02,  1.81634724e-03, -1.14446083e-01,  9.10169201e-02,\n",
       "       -6.49097631e-02, -1.96549787e-02, -5.77826359e-02,  6.76959455e-03,\n",
       "       -1.45563556e-01,  1.98449414e-02, -1.29219838e-01,  5.25618760e-02,\n",
       "        3.03051235e-01, -5.38296920e-02, -1.04060776e-01, -1.39195484e-01,\n",
       "       -1.16210920e-01,  1.04538227e-01, -1.69290040e-01,  2.99013334e-02,\n",
       "        2.90505518e-02,  5.61750000e-02, -2.42456005e-02, -8.81722144e-02,\n",
       "       -1.57623603e-03,  6.62993106e-02,  3.71312560e-01, -5.64572464e-01,\n",
       "        2.34948549e-02, -3.62637421e-02,  2.74568005e-01, -3.62076612e-02,\n",
       "        1.01268523e-01,  1.29674704e-02, -5.15050020e-02,  9.63309138e-02,\n",
       "        1.53005936e-01,  3.67185776e-02, -2.74492206e-02, -5.09751613e-02,\n",
       "       -5.58418506e-02, -6.94077604e-02,  1.68787852e-01, -9.45256546e-02,\n",
       "       -3.24052872e-02, -2.14740213e-01,  5.08812083e-02,  9.63890190e-03,\n",
       "        8.35796248e-02, -7.32611248e-02, -7.88091384e-02, -6.33230206e-03,\n",
       "       -1.64813836e-02,  2.56273514e-02,  4.13819723e-03,  1.03770060e-01,\n",
       "        8.59004680e-03,  2.18988684e-02, -1.48988888e-02,  3.20640507e-03,\n",
       "       -4.25293918e-02,  2.67093345e-01, -1.71631597e-01, -1.91239743e-03,\n",
       "       -2.81408014e-02, -1.24229221e-02, -6.12161475e-02,  1.18542942e-01,\n",
       "        4.15749355e-02, -7.64331964e-02,  1.38466340e-02, -4.17162312e-02,\n",
       "        4.38790017e-02,  5.05675615e-02, -8.15968941e-03, -1.12590914e-01,\n",
       "        1.96379520e-02, -1.86230310e-02,  1.18778314e-01,  1.42050612e-01,\n",
       "       -4.36565872e-02,  9.24257124e-02,  2.00166175e-02,  1.40989268e-02,\n",
       "       -9.18145683e-02, -2.51659477e-02, -1.23531907e-02, -6.25255094e-03,\n",
       "        6.56605442e-02,  1.71514194e-01, -4.85821091e-03, -1.42236776e-01,\n",
       "       -3.96355672e-02, -2.37134577e-02,  1.83570586e-02, -6.23501234e-02,\n",
       "       -1.25231634e-01, -1.37540176e-01, -2.26985981e-02, -3.79898435e-02,\n",
       "        3.07030822e-02,  8.81159965e-02, -1.24215442e-02, -7.67718460e-02,\n",
       "        1.69896416e-02, -7.54198067e-02,  3.70542954e-02, -9.96735206e-03,\n",
       "       -1.19484382e-02, -3.06526458e-02,  1.02118566e-01, -1.62474178e-01,\n",
       "        9.91658902e-03,  4.77883689e-02,  1.55521537e-01,  4.76677203e-01,\n",
       "       -7.25859092e-03, -3.89332977e-02, -9.82814441e-02, -8.05486577e-04,\n",
       "       -6.82500336e-02, -1.99944403e-01, -5.02382612e-02,  7.06148271e-03,\n",
       "       -2.83465106e-02,  8.69900031e-02,  7.99718765e-03, -5.06769660e-02])"
      ]
     },
     "execution_count": 26,
     "metadata": {},
     "output_type": "execute_result"
    }
   ],
   "source": [
    "randos"
   ]
  },
  {
   "cell_type": "code",
   "execution_count": 27,
   "id": "079b167a",
   "metadata": {},
   "outputs": [
    {
     "data": {
      "text/plain": [
       "-0.27433878214801694"
      ]
     },
     "execution_count": 27,
     "metadata": {},
     "output_type": "execute_result"
    }
   ],
   "source": [
    "genhyperbolic.rvs(**best_parms)"
   ]
  },
  {
   "cell_type": "code",
   "execution_count": 31,
   "id": "5f0c61b4",
   "metadata": {},
   "outputs": [
    {
     "data": {
      "text/plain": [
       "-0.07864331848919773"
      ]
     },
     "execution_count": 31,
     "metadata": {},
     "output_type": "execute_result"
    },
    {
     "name": "stderr",
     "output_type": "stream",
     "text": [
      "/home/catweazle/anaconda3/lib/python3.9/site-packages/scipy/integrate/quadpack.py:879: IntegrationWarning: The occurrence of roundoff error is detected, which prevents \n",
      "  the requested tolerance from being achieved.  The error may be \n",
      "  underestimated.\n",
      "  quad_r = quad(f, low, high, args=args, full_output=self.full_output,\n",
      "/home/catweazle/anaconda3/lib/python3.9/site-packages/scipy/integrate/quadpack.py:879: IntegrationWarning: The maximum number of subdivisions (50) has been achieved.\n",
      "  If increasing the limit yields no improvement it is advised to analyze \n",
      "  the integrand in order to determine the difficulties.  If the position of a \n",
      "  local difficulty can be determined (singularity, discontinuity) one will \n",
      "  probably gain from splitting up the interval and calling the integrator \n",
      "  on the subranges.  Perhaps a special-purpose integrator should be used.\n",
      "  quad_r = quad(f, low, high, args=args, full_output=self.full_output,\n"
     ]
    }
   ],
   "source": [
    "np.percentile(randos, 15.75)"
   ]
  },
  {
   "cell_type": "code",
   "execution_count": 30,
   "id": "189498ff",
   "metadata": {},
   "outputs": [
    {
     "data": {
      "text/plain": [
       "0.07327295204621284"
      ]
     },
     "execution_count": 30,
     "metadata": {},
     "output_type": "execute_result"
    }
   ],
   "source": [
    "np.percentile(randos, 84.25)"
   ]
  },
  {
   "cell_type": "code",
   "execution_count": null,
   "id": "0b5e010f",
   "metadata": {},
   "outputs": [],
   "source": []
  }
 ],
 "metadata": {
  "kernelspec": {
   "display_name": "Python 3 (ipykernel)",
   "language": "python",
   "name": "python3"
  },
  "language_info": {
   "codemirror_mode": {
    "name": "ipython",
    "version": 3
   },
   "file_extension": ".py",
   "mimetype": "text/x-python",
   "name": "python",
   "nbconvert_exporter": "python",
   "pygments_lexer": "ipython3",
   "version": "3.9.13"
  }
 },
 "nbformat": 4,
 "nbformat_minor": 5
}
