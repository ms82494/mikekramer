{
 "cells": [
  {
   "cell_type": "code",
   "execution_count": 1,
   "id": "e25b6cd3",
   "metadata": {},
   "outputs": [
    {
     "data": {
      "text/html": [
       "<div>\n",
       "<style scoped>\n",
       "    .dataframe tbody tr th:only-of-type {\n",
       "        vertical-align: middle;\n",
       "    }\n",
       "\n",
       "    .dataframe tbody tr th {\n",
       "        vertical-align: top;\n",
       "    }\n",
       "\n",
       "    .dataframe thead th {\n",
       "        text-align: right;\n",
       "    }\n",
       "</style>\n",
       "<table border=\"1\" class=\"dataframe\">\n",
       "  <thead>\n",
       "    <tr style=\"text-align: right;\">\n",
       "      <th></th>\n",
       "      <th>yield02</th>\n",
       "      <th>yield30</th>\n",
       "      <th>spread30_02</th>\n",
       "    </tr>\n",
       "    <tr>\n",
       "      <th>date</th>\n",
       "      <th></th>\n",
       "      <th></th>\n",
       "      <th></th>\n",
       "    </tr>\n",
       "  </thead>\n",
       "  <tbody>\n",
       "    <tr>\n",
       "      <th>1977-02-18</th>\n",
       "      <td>6.03</td>\n",
       "      <td>7.70</td>\n",
       "      <td>1.67</td>\n",
       "    </tr>\n",
       "    <tr>\n",
       "      <th>1977-02-25</th>\n",
       "      <td>6.14</td>\n",
       "      <td>7.80</td>\n",
       "      <td>1.66</td>\n",
       "    </tr>\n",
       "    <tr>\n",
       "      <th>1977-03-04</th>\n",
       "      <td>6.11</td>\n",
       "      <td>7.81</td>\n",
       "      <td>1.70</td>\n",
       "    </tr>\n",
       "    <tr>\n",
       "      <th>1977-03-11</th>\n",
       "      <td>6.12</td>\n",
       "      <td>7.82</td>\n",
       "      <td>1.70</td>\n",
       "    </tr>\n",
       "    <tr>\n",
       "      <th>1977-03-18</th>\n",
       "      <td>6.08</td>\n",
       "      <td>7.78</td>\n",
       "      <td>1.70</td>\n",
       "    </tr>\n",
       "    <tr>\n",
       "      <th>...</th>\n",
       "      <td>...</td>\n",
       "      <td>...</td>\n",
       "      <td>...</td>\n",
       "    </tr>\n",
       "    <tr>\n",
       "      <th>2022-08-12</th>\n",
       "      <td>3.24</td>\n",
       "      <td>3.06</td>\n",
       "      <td>-0.18</td>\n",
       "    </tr>\n",
       "    <tr>\n",
       "      <th>2022-08-19</th>\n",
       "      <td>3.24</td>\n",
       "      <td>3.14</td>\n",
       "      <td>-0.10</td>\n",
       "    </tr>\n",
       "    <tr>\n",
       "      <th>2022-08-26</th>\n",
       "      <td>3.34</td>\n",
       "      <td>3.26</td>\n",
       "      <td>-0.08</td>\n",
       "    </tr>\n",
       "    <tr>\n",
       "      <th>2022-09-02</th>\n",
       "      <td>3.45</td>\n",
       "      <td>3.29</td>\n",
       "      <td>-0.16</td>\n",
       "    </tr>\n",
       "    <tr>\n",
       "      <th>2022-09-09</th>\n",
       "      <td>3.50</td>\n",
       "      <td>3.46</td>\n",
       "      <td>-0.04</td>\n",
       "    </tr>\n",
       "  </tbody>\n",
       "</table>\n",
       "<p>2378 rows × 3 columns</p>\n",
       "</div>"
      ],
      "text/plain": [
       "            yield02  yield30  spread30_02\n",
       "date                                     \n",
       "1977-02-18     6.03     7.70         1.67\n",
       "1977-02-25     6.14     7.80         1.66\n",
       "1977-03-04     6.11     7.81         1.70\n",
       "1977-03-11     6.12     7.82         1.70\n",
       "1977-03-18     6.08     7.78         1.70\n",
       "...             ...      ...          ...\n",
       "2022-08-12     3.24     3.06        -0.18\n",
       "2022-08-19     3.24     3.14        -0.10\n",
       "2022-08-26     3.34     3.26        -0.08\n",
       "2022-09-02     3.45     3.29        -0.16\n",
       "2022-09-09     3.50     3.46        -0.04\n",
       "\n",
       "[2378 rows x 3 columns]"
      ]
     },
     "execution_count": 1,
     "metadata": {},
     "output_type": "execute_result"
    }
   ],
   "source": [
    "import numpy as np\n",
    "import pandas as pd\n",
    "import pandas_datareader.data as web\n",
    "from datetime import datetime, date\n",
    "from fitter import Fitter, get_common_distributions, get_distributions\n",
    "from scipy.stats import lognorm, norm, triang, genhyperbolic, burr12\n",
    "from statsmodels.tsa.stattools import adfuller\n",
    "import statsmodels.api as sm\n",
    "from statsmodels.graphics.tsaplots import plot_acf, plot_pacf\n",
    "\n",
    "start = date(1950,1,1)\n",
    "end = datetime.today()\n",
    "\n",
    "fred_series = {'yield02':  'WGS2YR',\n",
    "               'yield30':  'WGS30YR'}\n",
    "\n",
    "\n",
    "df = web.DataReader(fred_series.values(), 'fred', start, end)\n",
    "df.columns = fred_series.keys()\n",
    "df.index.name = 'date'\n",
    "df.dropna(inplace=True)\n",
    "spreadName = \"spread\" + df.columns[1][5:] + \"_\" + df.columns[0][5:]\n",
    "df[spreadName] = df[df.columns[1]] - df[df.columns[0]]\n",
    "df"
   ]
  },
  {
   "cell_type": "code",
   "execution_count": 2,
   "id": "a69e3046",
   "metadata": {},
   "outputs": [
    {
     "data": {
      "text/plain": [
       "{'adf': -2.60000573727327,\n",
       " 'pvalue': 0.09299608166670248,\n",
       " 'usedlag': 22,\n",
       " 'nobs': 2355,\n",
       " 'criticalvalues': {'1%': -3.4331298055777806,\n",
       "  '5%': -2.862768070104647,\n",
       "  '10%': -2.567423754896525},\n",
       " 'icbest': -4171.175152135478}"
      ]
     },
     "execution_count": 2,
     "metadata": {},
     "output_type": "execute_result"
    }
   ],
   "source": [
    "adf_results = ['adf', 'pvalue', 'usedlag', 'nobs', 'critical' 'values', 'icbest']\n",
    "result=adfuller(df[spreadName])\n",
    "dict(zip(adf_results, result))"
   ]
  },
  {
   "cell_type": "markdown",
   "id": "f7062237",
   "metadata": {},
   "source": [
    "The fact that ```pvalue``` is above 0.05 indicates lack of stationarity."
   ]
  },
  {
   "cell_type": "code",
   "execution_count": 3,
   "id": "ff18ed11",
   "metadata": {},
   "outputs": [
    {
     "data": {
      "text/plain": [
       "date\n",
       "1977-02-25   -1.000000e-02\n",
       "1977-03-04    4.000000e-02\n",
       "1977-03-11    8.881784e-16\n",
       "1977-03-18    0.000000e+00\n",
       "1977-03-25    1.000000e-02\n",
       "                  ...     \n",
       "2022-08-12   -9.000000e-02\n",
       "2022-08-19    8.000000e-02\n",
       "2022-08-26    2.000000e-02\n",
       "2022-09-02   -8.000000e-02\n",
       "2022-09-09    1.200000e-01\n",
       "Freq: W-FRI, Name: spread30_02, Length: 2377, dtype: float64"
      ]
     },
     "execution_count": 3,
     "metadata": {},
     "output_type": "execute_result"
    }
   ],
   "source": [
    "sprd_chg = df[spreadName].diff()\n",
    "sprd_chg.dropna(inplace=True)\n",
    "sprd_chg"
   ]
  },
  {
   "cell_type": "code",
   "execution_count": 4,
   "id": "5a249715",
   "metadata": {},
   "outputs": [
    {
     "data": {
      "text/plain": [
       "{'adf': -12.980385381844615,\n",
       " 'pvalue': 2.952166885836307e-24,\n",
       " 'usedlag': 17,\n",
       " 'nobs': 2359,\n",
       " 'criticalvalues': {'1%': -3.433125086901646,\n",
       "  '5%': -2.8627659864448662,\n",
       "  '10%': -2.5674226455102995},\n",
       " 'icbest': -4164.87769796905}"
      ]
     },
     "execution_count": 4,
     "metadata": {},
     "output_type": "execute_result"
    }
   ],
   "source": [
    "result=adfuller(sprd_chg)\n",
    "dict(zip(adf_results, result))"
   ]
  },
  {
   "cell_type": "markdown",
   "id": "9f79817f",
   "metadata": {},
   "source": [
    "```pvalue``` is now down below 0.05 and ```sprd_chg``` is considered stationary."
   ]
  },
  {
   "cell_type": "code",
   "execution_count": 5,
   "id": "c7246304",
   "metadata": {},
   "outputs": [
    {
     "data": {
      "image/png": "[encoded data removed]",
      "text/plain": [
       "<Figure size 432x288 with 1 Axes>"
      ]
     },
     "metadata": {
      "needs_background": "light"
     },
     "output_type": "display_data"
    },
    {
     "data": {
      "image/png": "[encoded data removed]",
      "text/plain": [
       "<Figure size 432x288 with 1 Axes>"
      ]
     },
     "metadata": {
      "needs_background": "light"
     },
     "output_type": "display_data"
    }
   ],
   "source": [
    "fig1=plot_acf(sprd_chg)\n",
    "fig2=plot_pacf(sprd_chg, method='ywm')"
   ]
  },
  {
   "cell_type": "code",
   "execution_count": 10,
   "id": "516216e9",
   "metadata": {},
   "outputs": [
    {
     "name": "stdout",
     "output_type": "stream",
     "text": [
      "                               SARIMAX Results                                \n",
      "==============================================================================\n",
      "Dep. Variable:            spread30_02   No. Observations:                 2378\n",
      "Model:                 ARIMA(1, 1, 4)   Log Likelihood                2110.703\n",
      "Date:                Fri, 16 Sep 2022   AIC                          -4209.406\n",
      "Time:                        02:53:28   BIC                          -4174.764\n",
      "Sample:                    02-18-1977   HQIC                         -4196.797\n",
      "                         - 09-09-2022                                         \n",
      "Covariance Type:                  opg                                         \n",
      "==============================================================================\n",
      "                 coef    std err          z      P>|z|      [0.025      0.975]\n",
      "------------------------------------------------------------------------------\n",
      "ar.L1         -0.1327      0.073     -1.813      0.070      -0.276       0.011\n",
      "ma.L1          0.4004      0.072      5.543      0.000       0.259       0.542\n",
      "ma.L2          0.1598      0.025      6.460      0.000       0.111       0.208\n",
      "ma.L3          0.0693      0.014      4.938      0.000       0.042       0.097\n",
      "ma.L4          0.1343      0.012     11.059      0.000       0.111       0.158\n",
      "sigma2         0.0099      0.000     87.200      0.000       0.010       0.010\n",
      "===================================================================================\n",
      "Ljung-Box (L1) (Q):                   0.00   Jarque-Bera (JB):             12345.13\n",
      "Prob(Q):                              0.98   Prob(JB):                         0.00\n",
      "Heteroskedasticity (H):               0.36   Skew:                            -0.01\n",
      "Prob(H) (two-sided):                  0.00   Kurtosis:                        14.16\n",
      "===================================================================================\n",
      "\n",
      "Warnings:\n",
      "[1] Covariance matrix calculated using the outer product of gradients (complex-step).\n"
     ]
    }
   ],
   "source": [
    "mod = sm.tsa.ARIMA(df[spreadName], order = (1,1,4))\n",
    "res = mod.fit()\n",
    "print(res.summary())"
   ]
  },
  {
   "cell_type": "code",
   "execution_count": 13,
   "id": "45516678",
   "metadata": {},
   "outputs": [
    {
     "data": {
      "text/plain": [
       "<AxesSubplot:ylabel='Density'>"
      ]
     },
     "execution_count": 13,
     "metadata": {},
     "output_type": "execute_result"
    },
    {
     "data": {
      "image/png": "[encoded data removed]",
      "text/plain": [
       "<Figure size 432x288 with 1 Axes>"
      ]
     },
     "metadata": {
      "needs_background": "light"
     },
     "output_type": "display_data"
    }
   ],
   "source": [
    "res.resid.plot(kind='kde')"
   ]
  },
  {
   "cell_type": "code",
   "execution_count": 4,
   "id": "1e3ae62c",
   "metadata": {},
   "outputs": [
    {
     "data": {
      "text/plain": [
       "count    11387.000000\n",
       "mean        -0.000148\n",
       "std          0.055121\n",
       "min         -0.480000\n",
       "25%         -0.030000\n",
       "50%          0.000000\n",
       "75%          0.020000\n",
       "max          0.500000\n",
       "Name: spread30_02, dtype: float64"
      ]
     },
     "execution_count": 4,
     "metadata": {},
     "output_type": "execute_result"
    }
   ],
   "source": [
    "sprd_chg.describe()"
   ]
  },
  {
   "cell_type": "code",
   "execution_count": 5,
   "id": "a9e4c5a2",
   "metadata": {},
   "outputs": [
    {
     "data": {
      "text/html": [
       "<div>\n",
       "<style scoped>\n",
       "    .dataframe tbody tr th:only-of-type {\n",
       "        vertical-align: middle;\n",
       "    }\n",
       "\n",
       "    .dataframe tbody tr th {\n",
       "        vertical-align: top;\n",
       "    }\n",
       "\n",
       "    .dataframe thead th {\n",
       "        text-align: right;\n",
       "    }\n",
       "</style>\n",
       "<table border=\"1\" class=\"dataframe\">\n",
       "  <thead>\n",
       "    <tr style=\"text-align: right;\">\n",
       "      <th></th>\n",
       "      <th>sumsquare_error</th>\n",
       "      <th>aic</th>\n",
       "      <th>bic</th>\n",
       "      <th>kl_div</th>\n",
       "      <th>ks_statistic</th>\n",
       "      <th>ks_pvalue</th>\n",
       "    </tr>\n",
       "  </thead>\n",
       "  <tbody>\n",
       "    <tr>\n",
       "      <th>burr12</th>\n",
       "      <td>52.95362</td>\n",
       "      <td>1209.411437</td>\n",
       "      <td>-61120.066266</td>\n",
       "      <td>inf</td>\n",
       "      <td>0.086158</td>\n",
       "      <td>5.448607e-74</td>\n",
       "    </tr>\n",
       "  </tbody>\n",
       "</table>\n",
       "</div>"
      ],
      "text/plain": [
       "        sumsquare_error          aic           bic  kl_div  ks_statistic  \\\n",
       "burr12         52.95362  1209.411437 -61120.066266     inf      0.086158   \n",
       "\n",
       "           ks_pvalue  \n",
       "burr12  5.448607e-74  "
      ]
     },
     "execution_count": 5,
     "metadata": {},
     "output_type": "execute_result"
    },
    {
     "data": {
      "image/png": "[encoded data removed]",
      "text/plain": [
       "<Figure size 640x480 with 1 Axes>"
      ]
     },
     "metadata": {},
     "output_type": "display_data"
    }
   ],
   "source": [
    "f = Fitter(sprd_chg,\n",
    "          distributions='burr12')\n",
    "f.fit()\n",
    "f.summary()"
   ]
  },
  {
   "cell_type": "code",
   "execution_count": 6,
   "id": "c8d22f9d",
   "metadata": {},
   "outputs": [
    {
     "data": {
      "text/plain": [
       "'burr12'"
      ]
     },
     "execution_count": 6,
     "metadata": {},
     "output_type": "execute_result"
    }
   ],
   "source": [
    "best = f.get_best(method = 'sumsquare_error')\n",
    "best_distro = list(best.keys())[0]\n",
    "best_distro"
   ]
  },
  {
   "cell_type": "code",
   "execution_count": 7,
   "id": "cd5ac373",
   "metadata": {},
   "outputs": [
    {
     "data": {
      "text/plain": [
       "{'c': 26.50152447274285,\n",
       " 'd': 1.012725983227611,\n",
       " 'loc': -0.7320235203328298,\n",
       " 'scale': 0.7301564483444316}"
      ]
     },
     "execution_count": 7,
     "metadata": {},
     "output_type": "execute_result"
    }
   ],
   "source": [
    "best_parms  = best[best_distro]\n",
    "best_parms"
   ]
  },
  {
   "cell_type": "code",
   "execution_count": 8,
   "id": "d2c8d091",
   "metadata": {},
   "outputs": [],
   "source": [
    "randos = burr12.rvs(**best_parms,size=1000)"
   ]
  },
  {
   "cell_type": "code",
   "execution_count": 9,
   "id": "b6863463",
   "metadata": {},
   "outputs": [
    {
     "data": {
      "text/plain": [
       "array([-3.85960247e-02, -3.11204991e-02,  2.32744736e-03, -7.98120979e-02,\n",
       "       -1.71861398e-02,  2.74562452e-02, -1.80722990e-02,  3.54025878e-02,\n",
       "        2.81577261e-02,  7.85001037e-02,  4.40365416e-02,  3.56917264e-02,\n",
       "       -4.61774670e-03, -4.12803902e-02, -3.49413896e-03,  1.18572620e-02,\n",
       "        2.50915026e-02,  3.83417669e-02,  7.43942005e-03,  2.86682987e-02,\n",
       "       -4.18286070e-03, -2.65017154e-02,  2.61848842e-02,  4.13773978e-02,\n",
       "        1.48470341e-02, -7.37906649e-03,  9.60891675e-03, -3.27396135e-02,\n",
       "        1.02606871e-01, -4.16076906e-02, -1.25678767e-02,  3.75405476e-02,\n",
       "       -5.75591947e-03,  5.99750888e-03,  3.85539626e-02, -1.10980786e-02,\n",
       "        9.36484296e-02, -6.78204729e-02, -4.02817542e-02,  1.01504865e-01,\n",
       "        7.16201207e-02,  3.26581544e-02,  4.65011743e-02,  1.42175921e-02,\n",
       "       -1.96984746e-02,  1.11037168e-03,  1.77398845e-02,  5.87994755e-02,\n",
       "       -3.81957008e-02,  1.68805383e-01, -5.18018470e-02,  8.17469886e-02,\n",
       "        3.17266403e-02,  1.48671535e-02, -1.32669758e-02, -9.21865786e-02,\n",
       "        2.02895790e-02,  3.99269049e-02, -2.44030561e-02,  3.94812034e-02,\n",
       "       -8.55947945e-02, -3.70688984e-02, -2.94475395e-02, -9.09902684e-02,\n",
       "       -1.52243199e-02,  2.94720735e-02,  3.72471206e-03, -2.46713532e-02,\n",
       "       -6.04322055e-02, -1.16089142e-02, -1.77139143e-02,  2.41091693e-02,\n",
       "        4.25878376e-02,  1.77423697e-02,  2.75556081e-02,  2.45013375e-02,\n",
       "       -8.33846767e-03,  1.94055676e-02,  3.93840804e-02, -6.61588875e-03,\n",
       "       -2.44305458e-02,  3.44276951e-02,  1.71182012e-02, -3.11578003e-02,\n",
       "        8.26286404e-02, -1.48247528e-02,  2.16175547e-03,  8.87074295e-03,\n",
       "        9.61004252e-02, -3.66419117e-02,  1.38333412e-01,  7.53685861e-03,\n",
       "        1.54529530e-01,  1.73511829e-02,  1.48286421e-02,  2.76107661e-02,\n",
       "       -1.74780968e-02, -4.56177934e-02,  4.21818243e-02, -2.37424268e-03,\n",
       "       -8.08536505e-03,  4.47124785e-02,  4.45830083e-02, -4.98935439e-02,\n",
       "        1.49482739e-02,  8.39631371e-03,  7.40251843e-03, -9.52273109e-02,\n",
       "        8.59913197e-03, -1.69515065e-02,  9.10654863e-03,  2.62529487e-02,\n",
       "       -7.72679084e-03, -3.99189717e-02, -8.93969400e-02,  4.76689972e-02,\n",
       "       -1.33400349e-02,  7.69839311e-02, -1.62753565e-02, -1.28751849e-02,\n",
       "        2.22440970e-03, -5.42504101e-02, -6.74415114e-02,  2.09793961e-02,\n",
       "       -1.77508135e-03, -1.38747103e-02,  2.78881556e-02, -1.51554445e-02,\n",
       "        4.86541599e-03, -5.13410387e-02, -5.20936581e-03, -3.72493088e-02,\n",
       "       -3.10292546e-02, -5.05124824e-02,  7.87015663e-02,  6.79626158e-03,\n",
       "        1.73249039e-02,  3.21084140e-02, -2.60918541e-02,  8.90355025e-02,\n",
       "       -1.80616471e-02, -3.02684175e-02, -3.95105696e-02,  1.00795454e-01,\n",
       "        1.90972670e-02, -2.90685209e-02,  5.91083955e-02,  2.52036673e-02,\n",
       "       -5.40529164e-02,  3.50142355e-02,  2.51819845e-02,  8.77359649e-03,\n",
       "       -9.74381975e-02,  1.74684920e-02, -4.69171440e-02, -2.14502503e-02,\n",
       "        1.81147656e-02, -6.97855516e-02, -3.75476673e-02,  2.06457207e-03,\n",
       "       -7.53010021e-02,  1.91278131e-02, -2.58560873e-02, -1.73942178e-01,\n",
       "       -4.29674092e-02, -4.08269698e-02,  2.27705060e-02,  2.01336114e-03,\n",
       "        3.93660402e-03, -4.74066927e-02,  4.68013623e-02, -7.52082858e-02,\n",
       "        6.84134973e-03,  1.40399373e-01, -2.46662509e-02, -4.36196923e-02,\n",
       "        4.37097343e-02, -1.12841530e-02, -2.11108969e-02,  2.19662273e-03,\n",
       "       -2.07891026e-02, -1.61658818e-01,  1.06556953e-02,  3.84701563e-02,\n",
       "       -7.01570131e-02, -1.34586360e-01,  1.36342170e-02,  2.39671928e-02,\n",
       "       -4.41903388e-02,  6.93300424e-02, -1.49442646e-02,  1.49912847e-01,\n",
       "       -2.06709045e-02, -3.27984990e-02, -5.44367010e-02, -3.70728684e-02,\n",
       "       -8.29771524e-02,  2.54253273e-02, -6.33232630e-03, -9.35089122e-03,\n",
       "        1.25546428e-01, -5.95043887e-03,  1.25421558e-02,  4.37660921e-02,\n",
       "        1.01531199e-01, -5.90690481e-02,  3.07472860e-02, -5.60734690e-05,\n",
       "        4.48713496e-02,  1.17159064e-01,  5.27506275e-02, -3.24796333e-02,\n",
       "       -6.41918516e-02, -2.95314391e-02, -8.26297944e-02, -5.81498915e-02,\n",
       "       -4.44812375e-02, -6.48204905e-02, -4.12137917e-02, -1.64929243e-02,\n",
       "        1.03808680e-01,  2.11635584e-02, -4.96523148e-03,  2.53005990e-02,\n",
       "       -8.50966072e-02, -6.88103608e-02,  3.12612841e-02, -6.11778914e-03,\n",
       "        3.31919672e-02, -4.40758343e-02, -5.93800292e-02, -1.29391633e-02,\n",
       "       -2.29950810e-02, -5.76430543e-03, -2.43531913e-03, -4.24731027e-02,\n",
       "        2.79695599e-02,  2.28707768e-01,  1.78352321e-02, -5.27979440e-02,\n",
       "       -2.25570049e-02,  3.32901237e-02, -4.65570247e-02, -1.71817833e-02,\n",
       "        5.57513976e-02, -4.31376921e-02,  2.41448161e-02, -1.75785802e-02,\n",
       "        3.42229579e-02, -1.72283628e-02,  5.75887772e-02, -3.18796486e-02,\n",
       "        3.39494951e-02,  4.40480978e-02,  3.73227361e-03,  4.97213432e-02,\n",
       "        5.38816462e-02,  4.20882748e-02, -6.71935566e-02, -3.31251159e-02,\n",
       "        5.61034968e-02,  2.37457369e-02,  3.91103030e-02,  1.37550035e-02,\n",
       "       -5.35432620e-02, -1.28594938e-01,  1.62895932e-02, -9.59223272e-03,\n",
       "        8.78627112e-02,  1.00728363e-02, -3.24468084e-02, -7.99181231e-02,\n",
       "       -3.46088592e-02, -2.06523242e-02,  3.77243445e-02, -4.44487111e-02,\n",
       "       -5.55775502e-02,  9.77840832e-02,  7.57917209e-02,  4.09518281e-02,\n",
       "        4.08945653e-02,  1.33259673e-02, -4.79608976e-02, -9.17998315e-02,\n",
       "       -2.00047558e-02,  2.49983528e-02,  3.68801352e-02,  6.02176517e-02,\n",
       "       -5.85560585e-02, -3.48816883e-02,  4.42366570e-03, -1.97236540e-02,\n",
       "        1.77500374e-02,  6.47847992e-02, -5.19658260e-02, -2.65320916e-03,\n",
       "        1.87653700e-03, -9.18388580e-03, -7.98366820e-02, -6.74808049e-02,\n",
       "       -2.63100795e-02,  4.99891585e-02, -6.50039384e-02,  3.80797443e-02,\n",
       "        1.66475871e-02, -2.44104492e-02,  2.84214866e-02,  2.34027351e-02,\n",
       "       -6.27474154e-02,  1.92985362e-02, -1.78638683e-02,  1.24353389e-02,\n",
       "        3.99630286e-02,  1.39067039e-02, -2.98188589e-02, -2.21183270e-02,\n",
       "       -2.69426798e-02, -1.41524047e-01,  1.98877813e-02, -3.01084183e-02,\n",
       "       -4.05422508e-02,  1.55878992e-01, -7.53356520e-02, -3.81916538e-02,\n",
       "        8.91812022e-02, -1.83088843e-02, -2.00478958e-02,  1.22706693e-01,\n",
       "        3.51282662e-02, -4.53323044e-02, -1.24174334e-01,  6.24077807e-03,\n",
       "        5.40826049e-02, -9.98536267e-03, -3.47416470e-02,  3.53174404e-02,\n",
       "        3.21397367e-02,  1.19463115e-02, -4.24494870e-02,  6.65374625e-02,\n",
       "       -7.73857530e-03,  3.29557063e-02,  2.53178910e-02,  2.17962068e-02,\n",
       "        1.84182558e-02,  3.60893245e-02,  2.69127608e-02, -1.61693751e-04,\n",
       "        2.73463878e-02,  3.38955928e-02, -2.38491250e-03,  3.20253655e-02,\n",
       "       -1.53859803e-03, -5.55809965e-03, -1.12948635e-01,  1.98180950e-02,\n",
       "       -7.94602680e-02,  7.42760434e-03,  1.90471874e-03,  6.08180169e-02,\n",
       "       -7.65730802e-02,  8.37328712e-02,  1.23876647e-02,  6.29862308e-04,\n",
       "        2.36844908e-02,  1.66971733e-02, -8.87458912e-04,  2.10908716e-02,\n",
       "       -5.97419476e-03, -6.06377801e-04, -1.61219030e-02, -1.46452026e-02,\n",
       "        6.49917652e-02,  1.95525329e-03, -6.15995966e-02,  1.61210928e-02,\n",
       "        1.26447833e-03, -1.28429618e-02, -1.20951637e-01,  3.58459976e-02,\n",
       "        4.18456821e-02, -2.73972372e-02, -6.57979585e-02, -2.21863664e-02,\n",
       "        1.97305878e-02, -4.93168522e-03, -1.93455390e-02,  1.19532463e-02,\n",
       "       -6.14789953e-02,  4.00016248e-02, -6.09965295e-02, -1.47553695e-02,\n",
       "       -5.39947412e-02,  2.57104126e-02,  5.72188876e-02, -1.59275700e-02,\n",
       "        5.54691677e-02, -2.44848733e-02,  1.53483046e-01, -3.29364352e-02,\n",
       "        2.36982101e-02, -1.73116306e-02,  1.82204857e-02,  4.34655005e-02,\n",
       "        4.14823450e-02, -4.55479243e-02,  3.41512758e-03, -4.04757610e-02,\n",
       "       -3.53847106e-02, -4.86243829e-03,  7.93512460e-02, -1.96796059e-02,\n",
       "       -2.73571870e-02, -3.09323870e-02,  5.14156836e-02, -2.25202360e-02,\n",
       "        1.90373238e-02,  3.71582344e-02,  1.23822107e-01, -4.27696947e-02,\n",
       "       -6.40070272e-02,  3.96327917e-02, -7.86999791e-02,  3.11170905e-02,\n",
       "        9.86165791e-02, -4.89701480e-04, -5.33553137e-02, -1.39938615e-01,\n",
       "        5.23662869e-02, -1.02968952e-01, -1.63521670e-02,  2.72169384e-02,\n",
       "        9.05640171e-03, -9.77073378e-02,  5.46199802e-02,  3.72158001e-02,\n",
       "        4.94923744e-03,  3.98802701e-03, -9.93486982e-03, -9.24766665e-02,\n",
       "       -4.87840427e-02, -2.92796903e-02,  5.14134264e-02,  4.72794670e-02,\n",
       "        1.42158440e-02, -1.11965991e-02, -4.17239040e-02,  8.91713499e-02,\n",
       "        2.82739143e-02,  9.83463501e-03,  2.26575869e-02, -3.83493176e-02,\n",
       "       -2.90276675e-03, -1.24051033e-02,  5.50191808e-02, -6.48940353e-02,\n",
       "        7.95508714e-03, -5.58853463e-02,  4.09955228e-02, -2.07985190e-02,\n",
       "        9.35966785e-04, -3.05634811e-02, -1.28399456e-01, -2.97749805e-02,\n",
       "       -4.27255072e-02, -2.65249422e-02, -5.79682746e-02, -2.08258831e-02,\n",
       "        9.37003424e-02,  3.11601059e-02, -5.39385326e-03,  6.93536565e-05,\n",
       "       -2.22714809e-02, -8.31398067e-02,  1.16317720e-01, -4.99139108e-02,\n",
       "       -1.84916416e-02, -5.20043655e-02, -3.88655360e-02, -1.22224469e-01,\n",
       "       -5.63786371e-02, -7.88770977e-02,  1.40073064e-02, -4.35786398e-02,\n",
       "        3.48770457e-02, -2.06063883e-02,  5.28297272e-02,  1.84740573e-02,\n",
       "       -4.34022189e-02, -1.39439672e-02,  3.85950125e-02, -2.48504204e-02,\n",
       "       -5.70551861e-02, -4.53532746e-02, -2.52431175e-02, -4.42271908e-02,\n",
       "        1.33487452e-02,  1.09030260e-02,  4.16162984e-02,  3.21507324e-02,\n",
       "       -3.36447579e-02,  2.41087300e-02, -8.47870051e-02,  3.76150681e-03,\n",
       "       -2.80796824e-02, -5.18615281e-02, -4.35446114e-02, -7.95691187e-03,\n",
       "        8.64865737e-04,  1.85070420e-02,  3.41873616e-02,  5.51665767e-03,\n",
       "        2.81289868e-02,  1.72229370e-01, -5.58615041e-02,  4.10088493e-03,\n",
       "        2.92090407e-02,  2.98901366e-02, -6.52246085e-03, -3.92560167e-02,\n",
       "       -3.42932205e-02,  1.07020670e-01, -3.72708167e-02, -4.12799005e-02,\n",
       "       -4.06989655e-02,  1.90243660e-01, -5.89738540e-02,  1.22333396e-02,\n",
       "       -4.51860993e-02, -1.03219953e-02,  1.00186508e-01,  9.74657068e-02,\n",
       "       -6.72184723e-02, -3.75263174e-02,  6.18894095e-02,  1.30705803e-01,\n",
       "        2.76778581e-02,  3.21061076e-02, -4.97847700e-02,  2.26332129e-03,\n",
       "       -2.88315285e-02, -5.74030661e-02,  4.33600594e-03, -1.00953485e-01,\n",
       "       -1.10070023e-02, -2.92773080e-03,  2.01804246e-01, -3.38536565e-02,\n",
       "        1.09163816e-01,  8.41269238e-03,  2.76873387e-02,  1.08728616e-01,\n",
       "        1.10628454e-02, -4.73783828e-02, -4.42616578e-02,  3.67340896e-03,\n",
       "        1.44639101e-02, -5.15451872e-02, -1.06173993e-01,  7.06091044e-02,\n",
       "       -1.43766203e-02, -6.74393256e-02, -1.20059993e-01,  3.86818946e-03,\n",
       "        5.80702916e-02,  1.91283897e-02, -7.96963340e-02,  6.11171964e-02,\n",
       "        1.35249895e-01,  1.56722736e-02,  1.59183630e-02, -2.57135522e-02,\n",
       "       -3.66156496e-02, -8.20969799e-03, -1.61028995e-01, -1.02284299e-02,\n",
       "       -5.06104098e-02,  1.10870487e-01, -5.62035221e-03, -1.45740078e-02,\n",
       "       -3.49178356e-02, -4.55535188e-02,  4.95417938e-03, -6.54596702e-02,\n",
       "       -7.13796099e-02, -6.67971620e-02, -4.20749448e-03, -7.53045835e-02,\n",
       "       -3.72236446e-02,  1.49532781e-02, -9.77618175e-02, -9.68245091e-03,\n",
       "        2.31450046e-02, -6.20969837e-02,  4.02534545e-02,  1.52222637e-03,\n",
       "       -3.28628633e-02, -8.45727779e-03, -5.70571207e-03, -5.04566181e-02,\n",
       "       -2.16096516e-02, -3.56219092e-02,  5.69193455e-02,  1.62097000e-02,\n",
       "       -2.03389338e-02, -1.29078303e-02, -1.29282572e-02, -8.72101795e-02,\n",
       "       -6.50604074e-03,  3.55566037e-02, -2.15561185e-03,  1.37488770e-01,\n",
       "        3.55850680e-02,  5.43700492e-02,  2.70411275e-02, -2.19075790e-02,\n",
       "       -1.29243052e-02, -5.74761006e-02,  2.55596125e-02,  1.82241763e-02,\n",
       "        5.98323437e-02,  2.39547931e-02,  9.84697902e-02,  1.76408293e-01,\n",
       "        1.55472219e-02, -4.18320757e-03, -6.21262106e-02,  2.26908653e-02,\n",
       "       -1.11371114e-02, -1.34061992e-01, -8.39366606e-02,  8.14121486e-02,\n",
       "        2.65884871e-03, -2.74235006e-02, -8.21767216e-02,  2.23399525e-03,\n",
       "        5.13031107e-02,  1.90148569e-02,  8.27657580e-02, -5.82186540e-02,\n",
       "       -8.39358788e-03, -2.25105678e-02, -4.69852013e-02, -1.42444606e-02,\n",
       "        2.19399342e-02,  3.17844369e-02,  4.32575704e-02, -2.64383930e-02,\n",
       "       -5.92335855e-03, -1.98895903e-02,  2.00893699e-02, -2.48125984e-02,\n",
       "        5.50641530e-02, -4.40895491e-03, -4.48777933e-02,  2.28904763e-02,\n",
       "        1.10671388e-02, -1.52258123e-02, -1.15318921e-01,  3.18347333e-02,\n",
       "       -2.34624337e-02, -6.07040064e-03, -5.73896344e-02, -3.92816304e-04,\n",
       "        9.84857502e-03,  3.62021065e-02, -5.79765420e-02, -1.54955831e-02,\n",
       "       -1.04779614e-01,  7.81642551e-02,  9.74244922e-03,  1.42498946e-02,\n",
       "        1.02761741e-02, -1.77422038e-02, -1.67168771e-02, -5.43886507e-02,\n",
       "       -1.40587140e-02, -2.10478164e-02,  2.04724117e-02, -1.25755899e-02,\n",
       "        2.64313428e-02, -3.43297139e-02, -4.63837012e-03,  1.84438015e-02,\n",
       "       -6.71127703e-02, -4.11354749e-02,  8.95773439e-02, -9.84444862e-03,\n",
       "       -2.02435624e-02, -7.86225781e-03,  1.02587668e-03, -6.26476591e-02,\n",
       "        5.43072394e-02, -1.01451174e-01, -3.85425575e-02, -5.61797620e-02,\n",
       "       -5.57110309e-02, -8.13440594e-03,  2.31306047e-02, -1.78666801e-02,\n",
       "        3.11261641e-02,  3.54753321e-02,  1.15006105e-01, -5.74792465e-02,\n",
       "       -4.99957452e-02, -4.91748672e-02,  1.95606103e-02, -1.43845564e-02,\n",
       "       -8.64268884e-03, -5.59827493e-03, -1.27123553e-02,  4.76834132e-02,\n",
       "       -3.90061534e-02,  6.15120181e-02,  3.81718047e-02,  1.54877721e-02,\n",
       "        4.24699706e-02, -1.54056452e-02,  2.38419127e-02, -4.49305938e-02,\n",
       "        3.27307576e-02, -4.55137837e-02,  1.55512601e-01,  1.67477732e-02,\n",
       "       -4.12793755e-02, -5.80764841e-02, -1.64361228e-02, -2.09216812e-02,\n",
       "       -3.41804208e-02,  2.43557380e-02,  4.31946804e-03,  3.90409772e-03,\n",
       "       -2.01837850e-03,  1.33616184e-02,  3.54218958e-03, -5.65630973e-02,\n",
       "        1.72441486e-02,  9.74957622e-02,  1.46835085e-02,  2.19718166e-02,\n",
       "       -1.28434545e-01,  3.62464877e-02,  1.40940282e-02, -2.14370555e-02,\n",
       "        7.28849855e-02, -4.17111116e-02,  1.43030870e-02,  2.17270548e-02,\n",
       "        4.38183186e-02,  1.89777551e-02, -6.87731124e-02,  4.41374141e-02,\n",
       "       -9.71149663e-03,  8.14872414e-03,  2.32715053e-02, -2.46986245e-02,\n",
       "        6.15795274e-02,  4.96389508e-02,  2.26637778e-02, -3.99907689e-02,\n",
       "        5.19636572e-02, -5.42093867e-02, -1.52625409e-03,  2.73260983e-02,\n",
       "        2.94054091e-03, -1.94556431e-03, -7.19977509e-02,  4.81571990e-02,\n",
       "       -1.32243292e-02, -6.19089042e-02,  3.74811672e-03, -1.86216884e-02,\n",
       "        1.47139927e-01, -2.41149489e-02, -4.17746756e-02,  2.83368398e-03,\n",
       "        3.37319456e-02,  4.31689543e-02,  4.47013758e-02, -4.62065942e-03,\n",
       "        5.97534847e-02, -4.54808121e-02,  2.76707058e-02,  2.61545063e-02,\n",
       "       -3.00292228e-02, -7.47672427e-03,  6.20945357e-02,  1.26618623e-03,\n",
       "        9.21009334e-03,  1.14642109e-02,  1.35908615e-01, -1.96490893e-02,\n",
       "       -3.47062128e-02,  2.04335799e-02,  2.34044554e-02, -1.78453671e-02,\n",
       "        1.68651038e-02, -6.09202660e-02,  4.34881484e-02,  5.11836375e-02,\n",
       "        2.60373740e-02,  1.29682658e-02, -2.23770545e-02, -1.21410286e-02,\n",
       "       -5.14210210e-03,  7.01205456e-02,  2.08468229e-02, -2.16447889e-02,\n",
       "        1.26149175e-02,  8.38957568e-03, -4.91245848e-02, -3.76697721e-02,\n",
       "        1.58821049e-02,  1.41957716e-01, -8.06260856e-02,  7.75293045e-03,\n",
       "        8.51015873e-02,  4.12587867e-02, -4.82886836e-02,  3.73572510e-02,\n",
       "       -1.41055873e-02,  4.34708135e-02,  1.82021697e-03, -2.11651808e-02,\n",
       "       -4.39455344e-02,  3.68848729e-03,  1.91963845e-02, -6.11303658e-02,\n",
       "        2.46874675e-02,  5.77872528e-02, -1.18880211e-03,  5.10674741e-02,\n",
       "       -4.03658960e-02,  2.17046447e-02, -5.10469160e-02, -3.12520998e-03,\n",
       "       -1.91313700e-02, -7.41550151e-02,  7.78073643e-02,  4.98669345e-02,\n",
       "        2.71727947e-02, -9.69473044e-03, -3.35890715e-02,  3.42362489e-02,\n",
       "        7.85762330e-03, -4.20428404e-02,  2.39584544e-02, -7.01484232e-02,\n",
       "        8.70995365e-04,  4.40130935e-02,  1.53647017e-02, -6.65776179e-02,\n",
       "       -1.78506407e-03,  1.38989406e-01, -2.24729925e-02,  3.87505001e-02,\n",
       "       -4.55098825e-02, -1.00114371e-01,  2.96341728e-02, -4.57248555e-02,\n",
       "       -6.24695089e-02,  3.84544965e-02,  3.08321805e-04, -5.14694317e-02,\n",
       "       -3.84079311e-02, -2.73060184e-02, -3.57937133e-02, -1.51910834e-02,\n",
       "       -9.30039661e-02, -2.83734786e-02, -9.60707107e-04,  1.33374776e-01,\n",
       "       -4.05753409e-02, -8.06714715e-02,  5.64301485e-02, -2.74280096e-02,\n",
       "       -2.99622248e-02, -1.21658988e-01, -1.69462700e-02, -1.69962643e-02,\n",
       "       -4.17176724e-03, -1.26806491e-02,  1.09163015e-01,  7.88394880e-03,\n",
       "        4.76342549e-04,  5.50807716e-02,  7.44418129e-02, -2.17457529e-02,\n",
       "       -5.07523857e-04, -9.70058756e-04,  3.51176697e-02,  5.25910595e-03,\n",
       "       -7.42127406e-02,  2.10276259e-02,  7.12175053e-02, -5.38084238e-02,\n",
       "        6.05283864e-03, -1.20763532e-02,  1.50097898e-02, -2.28648907e-03,\n",
       "       -1.60287923e-01, -1.05188765e-02, -9.83625494e-04, -6.56211355e-03,\n",
       "        6.59342326e-03,  2.13547460e-02,  1.35358321e-01, -3.43361531e-02,\n",
       "        6.12468895e-02, -3.08135496e-02,  5.34644625e-02,  2.68274532e-02,\n",
       "       -7.01066171e-02, -1.81279614e-02,  6.49600843e-02, -1.12720675e-02,\n",
       "        1.08059041e-02, -2.52785192e-02, -6.79518864e-03, -7.47989791e-02,\n",
       "       -2.81504776e-02,  1.49841535e-02,  8.88305681e-02,  2.56007282e-02,\n",
       "       -1.09619398e-02, -4.81439058e-02, -2.93441479e-03,  2.04023846e-02,\n",
       "       -1.77336599e-02, -2.93937276e-02, -2.28670643e-02, -1.38794969e-02,\n",
       "        2.15740725e-02,  1.41550447e-02, -3.41067258e-03, -4.86106908e-03,\n",
       "        1.19507029e-01,  6.33877248e-03,  1.40847747e-02, -2.84841736e-02,\n",
       "        7.70846705e-02, -4.76280152e-02, -6.65890217e-02, -5.37406687e-02,\n",
       "        8.55340751e-03, -1.52325840e-01, -5.54987464e-03, -2.26091095e-02,\n",
       "       -2.04160557e-02,  2.20331009e-02,  1.32498395e-03,  7.00072401e-02,\n",
       "       -9.93051017e-02,  1.06398154e-01, -4.15081621e-02,  3.73542619e-02,\n",
       "        4.24480303e-02, -6.49908477e-02, -4.94622554e-02,  4.54851329e-02,\n",
       "        2.43548972e-02,  5.25529793e-02,  2.78846522e-02,  1.55251070e-02,\n",
       "        1.16525363e-01, -1.56816786e-02,  1.83480456e-02, -3.46356990e-02,\n",
       "        4.36690282e-02,  4.60899602e-02, -7.94973189e-03,  7.34425258e-02,\n",
       "       -6.52447306e-02,  4.32433186e-02,  5.17926659e-02, -8.92965192e-03,\n",
       "        3.56308625e-02, -3.96572024e-02,  3.59161846e-02, -1.01112086e-01,\n",
       "        5.13794504e-02, -8.48659016e-03,  1.79052052e-02, -5.90742507e-02,\n",
       "        5.87336241e-02, -3.08421641e-02,  7.60912545e-03,  7.92327629e-02,\n",
       "       -1.16327406e-01,  3.09566989e-02, -7.94872764e-02,  1.12718819e-01,\n",
       "        6.45468176e-02, -4.50294657e-02, -9.77584560e-02, -5.95889962e-02,\n",
       "        5.34925601e-02,  1.03746203e-02,  3.73709403e-04, -2.40240558e-03])"
      ]
     },
     "execution_count": 9,
     "metadata": {},
     "output_type": "execute_result"
    }
   ],
   "source": [
    "randos"
   ]
  },
  {
   "cell_type": "code",
   "execution_count": 10,
   "id": "079b167a",
   "metadata": {},
   "outputs": [
    {
     "data": {
      "text/plain": [
       "-0.03375552569831486"
      ]
     },
     "execution_count": 10,
     "metadata": {},
     "output_type": "execute_result"
    }
   ],
   "source": [
    "burr12.rvs(**best_parms)"
   ]
  },
  {
   "cell_type": "code",
   "execution_count": 11,
   "id": "5f0c61b4",
   "metadata": {},
   "outputs": [
    {
     "data": {
      "text/plain": [
       "-0.07995352126581994"
      ]
     },
     "execution_count": 11,
     "metadata": {},
     "output_type": "execute_result"
    }
   ],
   "source": [
    "np.percentile(randos, 5)"
   ]
  },
  {
   "cell_type": "code",
   "execution_count": 12,
   "id": "189498ff",
   "metadata": {},
   "outputs": [
    {
     "data": {
      "text/plain": [
       "0.09365102527198466"
      ]
     },
     "execution_count": 12,
     "metadata": {},
     "output_type": "execute_result"
    }
   ],
   "source": [
    "np.percentile(randos, 95)"
   ]
  },
  {
   "cell_type": "code",
   "execution_count": null,
   "id": "0b5e010f",
   "metadata": {},
   "outputs": [],
   "source": []
  }
 ],
 "metadata": {
  "kernelspec": {
   "display_name": "Python 3 (ipykernel)",
   "language": "python",
   "name": "python3"
  },
  "language_info": {
   "codemirror_mode": {
    "name": "ipython",
    "version": 3
   },
   "file_extension": ".py",
   "mimetype": "text/x-python",
   "name": "python",
   "nbconvert_exporter": "python",
   "pygments_lexer": "ipython3",
   "version": "3.9.12"
  }
 },
 "nbformat": 4,
 "nbformat_minor": 5
}
