{
 "cells": [
  {
   "cell_type": "code",
   "execution_count": 1,
   "id": "e25b6cd3",
   "metadata": {},
   "outputs": [
    {
     "data": {
      "text/html": [
       "<div>\n",
       "<style scoped>\n",
       "    .dataframe tbody tr th:only-of-type {\n",
       "        vertical-align: middle;\n",
       "    }\n",
       "\n",
       "    .dataframe tbody tr th {\n",
       "        vertical-align: top;\n",
       "    }\n",
       "\n",
       "    .dataframe thead th {\n",
       "        text-align: right;\n",
       "    }\n",
       "</style>\n",
       "<table border=\"1\" class=\"dataframe\">\n",
       "  <thead>\n",
       "    <tr style=\"text-align: right;\">\n",
       "      <th></th>\n",
       "      <th>yield02</th>\n",
       "      <th>yield30</th>\n",
       "      <th>spread30_02</th>\n",
       "    </tr>\n",
       "    <tr>\n",
       "      <th>date</th>\n",
       "      <th></th>\n",
       "      <th></th>\n",
       "      <th></th>\n",
       "    </tr>\n",
       "  </thead>\n",
       "  <tbody>\n",
       "    <tr>\n",
       "      <th>1977-02-18</th>\n",
       "      <td>6.03</td>\n",
       "      <td>7.70</td>\n",
       "      <td>1.67</td>\n",
       "    </tr>\n",
       "    <tr>\n",
       "      <th>1977-02-25</th>\n",
       "      <td>6.14</td>\n",
       "      <td>7.80</td>\n",
       "      <td>1.66</td>\n",
       "    </tr>\n",
       "    <tr>\n",
       "      <th>1977-03-04</th>\n",
       "      <td>6.11</td>\n",
       "      <td>7.81</td>\n",
       "      <td>1.70</td>\n",
       "    </tr>\n",
       "    <tr>\n",
       "      <th>1977-03-11</th>\n",
       "      <td>6.12</td>\n",
       "      <td>7.82</td>\n",
       "      <td>1.70</td>\n",
       "    </tr>\n",
       "    <tr>\n",
       "      <th>1977-03-18</th>\n",
       "      <td>6.08</td>\n",
       "      <td>7.78</td>\n",
       "      <td>1.70</td>\n",
       "    </tr>\n",
       "    <tr>\n",
       "      <th>...</th>\n",
       "      <td>...</td>\n",
       "      <td>...</td>\n",
       "      <td>...</td>\n",
       "    </tr>\n",
       "    <tr>\n",
       "      <th>2022-08-05</th>\n",
       "      <td>3.07</td>\n",
       "      <td>2.98</td>\n",
       "      <td>-0.09</td>\n",
       "    </tr>\n",
       "    <tr>\n",
       "      <th>2022-08-12</th>\n",
       "      <td>3.24</td>\n",
       "      <td>3.06</td>\n",
       "      <td>-0.18</td>\n",
       "    </tr>\n",
       "    <tr>\n",
       "      <th>2022-08-19</th>\n",
       "      <td>3.24</td>\n",
       "      <td>3.14</td>\n",
       "      <td>-0.10</td>\n",
       "    </tr>\n",
       "    <tr>\n",
       "      <th>2022-08-26</th>\n",
       "      <td>3.34</td>\n",
       "      <td>3.26</td>\n",
       "      <td>-0.08</td>\n",
       "    </tr>\n",
       "    <tr>\n",
       "      <th>2022-09-02</th>\n",
       "      <td>3.45</td>\n",
       "      <td>3.29</td>\n",
       "      <td>-0.16</td>\n",
       "    </tr>\n",
       "  </tbody>\n",
       "</table>\n",
       "<p>2377 rows × 3 columns</p>\n",
       "</div>"
      ],
      "text/plain": [
       "            yield02  yield30  spread30_02\n",
       "date                                     \n",
       "1977-02-18     6.03     7.70         1.67\n",
       "1977-02-25     6.14     7.80         1.66\n",
       "1977-03-04     6.11     7.81         1.70\n",
       "1977-03-11     6.12     7.82         1.70\n",
       "1977-03-18     6.08     7.78         1.70\n",
       "...             ...      ...          ...\n",
       "2022-08-05     3.07     2.98        -0.09\n",
       "2022-08-12     3.24     3.06        -0.18\n",
       "2022-08-19     3.24     3.14        -0.10\n",
       "2022-08-26     3.34     3.26        -0.08\n",
       "2022-09-02     3.45     3.29        -0.16\n",
       "\n",
       "[2377 rows x 3 columns]"
      ]
     },
     "execution_count": 1,
     "metadata": {},
     "output_type": "execute_result"
    }
   ],
   "source": [
    "import numpy as np\n",
    "import pandas as pd\n",
    "import pandas_datareader.data as web\n",
    "from datetime import datetime, date\n",
    "from fitter import Fitter, get_common_distributions, get_distributions\n",
    "from scipy.stats import lognorm, norm, triang\n",
    "\n",
    "start = date(1950,1,1)\n",
    "end = datetime.today()\n",
    "\n",
    "fred_series = {'yield02':  'WGS2YR',\n",
    "               'yield30': 'WGS30YR'}\n",
    "\n",
    "\n",
    "df = web.DataReader(fred_series.values(), 'fred', start, end)\n",
    "df.columns = fred_series.keys()\n",
    "df.index.name = 'date'\n",
    "df.dropna(inplace=True)\n",
    "spreadName = \"spread\" + df.columns[1][5:] + \"_\" + df.columns[0][5:]\n",
    "df[spreadName] = df[df.columns[1]] - df[df.columns[0]]\n",
    "df"
   ]
  },
  {
   "cell_type": "code",
   "execution_count": 8,
   "id": "34f2f354",
   "metadata": {},
   "outputs": [
    {
     "data": {
      "text/plain": [
       "-2.6099999999999994"
      ]
     },
     "execution_count": 8,
     "metadata": {},
     "output_type": "execute_result"
    }
   ],
   "source": [
    "df.spread30_02.min()"
   ]
  },
  {
   "cell_type": "code",
   "execution_count": 9,
   "id": "ff18ed11",
   "metadata": {},
   "outputs": [
    {
     "data": {
      "text/plain": [
       "date\n",
       "1977-02-25   -1.000000e-02\n",
       "1977-03-04    4.000000e-02\n",
       "1977-03-11    8.881784e-16\n",
       "1977-03-18    0.000000e+00\n",
       "1977-03-25    1.000000e-02\n",
       "                  ...     \n",
       "2022-08-05   -1.700000e-01\n",
       "2022-08-12   -9.000000e-02\n",
       "2022-08-19    8.000000e-02\n",
       "2022-08-26    2.000000e-02\n",
       "2022-09-02   -8.000000e-02\n",
       "Freq: W-FRI, Name: spread30_02, Length: 2376, dtype: float64"
      ]
     },
     "execution_count": 9,
     "metadata": {},
     "output_type": "execute_result"
    }
   ],
   "source": [
    "sprd_chg = df[spreadName].diff()\n",
    "sprd_chg.dropna(inplace=True)\n",
    "sprd_chg"
   ]
  },
  {
   "cell_type": "code",
   "execution_count": 13,
   "id": "b474d78a",
   "metadata": {},
   "outputs": [
    {
     "data": {
      "text/plain": [
       "count    2376.000000\n",
       "mean       -0.000770\n",
       "std         0.104793\n",
       "min        -0.860000\n",
       "25%        -0.050000\n",
       "50%         0.000000\n",
       "75%         0.050000\n",
       "max         0.810000\n",
       "Name: spread30_02, dtype: float64"
      ]
     },
     "execution_count": 13,
     "metadata": {},
     "output_type": "execute_result"
    }
   ],
   "source": [
    "sprd_chg.describe()"
   ]
  },
  {
   "cell_type": "code",
   "execution_count": 14,
   "id": "0cec9d12",
   "metadata": {},
   "outputs": [
    {
     "name": "stderr",
     "output_type": "stream",
     "text": [
      "WARNING:root:SKIPPED kstwo distribution (taking more than 30 seconds)\n",
      "WARNING:root:SKIPPED kappa4 distribution (taking more than 30 seconds)\n",
      "WARNING:root:SKIPPED ksone distribution (taking more than 30 seconds)\n",
      "WARNING:root:SKIPPED levy_stable distribution (taking more than 30 seconds)\n",
      "WARNING:root:SKIPPED lognorm distribution (taking more than 30 seconds)\n",
      "WARNING:root:SKIPPED rv_continuous distribution (taking more than 30 seconds)\n",
      "WARNING:root:SKIPPED rv_histogram distribution (taking more than 30 seconds)\n",
      "WARNING:root:SKIPPED ncf distribution (taking more than 30 seconds)\n",
      "WARNING:root:SKIPPED nct distribution (taking more than 30 seconds)\n",
      "WARNING:root:SKIPPED ncx2 distribution (taking more than 30 seconds)\n",
      "/home/catweazle/anaconda3/envs/yc/lib/python3.10/site-packages/scipy/integrate/quadpack.py:879: IntegrationWarning: The maximum number of subdivisions (50) has been achieved.\n",
      "  If increasing the limit yields no improvement it is advised to analyze \n",
      "  the integrand in order to determine the difficulties.  If the position of a \n",
      "  local difficulty can be determined (singularity, discontinuity) one will \n",
      "  probably gain from splitting up the interval and calling the integrator \n",
      "  on the subranges.  Perhaps a special-purpose integrator should be used.\n",
      "  quad_r = quad(f, low, high, args=args, full_output=self.full_output,\n",
      "/home/catweazle/anaconda3/envs/yc/lib/python3.10/site-packages/scipy/integrate/quadpack.py:879: IntegrationWarning: The integral is probably divergent, or slowly convergent.\n",
      "  quad_r = quad(f, low, high, args=args, full_output=self.full_output,\n",
      "WARNING:root:SKIPPED powerlognorm distribution (taking more than 30 seconds)\n",
      "WARNING:root:SKIPPED recipinvgauss distribution (taking more than 30 seconds)\n",
      "WARNING:root:SKIPPED rice distribution (taking more than 30 seconds)\n",
      "WARNING:root:SKIPPED studentized_range distribution (taking more than 30 seconds)\n",
      "WARNING:root:SKIPPED triang distribution (taking more than 30 seconds)\n",
      "WARNING:root:SKIPPED vonmises distribution (taking more than 30 seconds)\n"
     ]
    },
    {
     "data": {
      "text/html": [
       "<div>\n",
       "<style scoped>\n",
       "    .dataframe tbody tr th:only-of-type {\n",
       "        vertical-align: middle;\n",
       "    }\n",
       "\n",
       "    .dataframe tbody tr th {\n",
       "        vertical-align: top;\n",
       "    }\n",
       "\n",
       "    .dataframe thead th {\n",
       "        text-align: right;\n",
       "    }\n",
       "</style>\n",
       "<table border=\"1\" class=\"dataframe\">\n",
       "  <thead>\n",
       "    <tr style=\"text-align: right;\">\n",
       "      <th></th>\n",
       "      <th>sumsquare_error</th>\n",
       "      <th>aic</th>\n",
       "      <th>bic</th>\n",
       "      <th>kl_div</th>\n",
       "      <th>ks_statistic</th>\n",
       "      <th>ks_pvalue</th>\n",
       "    </tr>\n",
       "  </thead>\n",
       "  <tbody>\n",
       "    <tr>\n",
       "      <th>genhyperbolic</th>\n",
       "      <td>18.170040</td>\n",
       "      <td>643.803471</td>\n",
       "      <td>-11540.331548</td>\n",
       "      <td>inf</td>\n",
       "      <td>0.037558</td>\n",
       "      <td>0.002389</td>\n",
       "    </tr>\n",
       "    <tr>\n",
       "      <th>t</th>\n",
       "      <td>18.226218</td>\n",
       "      <td>634.716889</td>\n",
       "      <td>-11548.543145</td>\n",
       "      <td>inf</td>\n",
       "      <td>0.037958</td>\n",
       "      <td>0.002070</td>\n",
       "    </tr>\n",
       "    <tr>\n",
       "      <th>johnsonsu</th>\n",
       "      <td>18.582597</td>\n",
       "      <td>658.828426</td>\n",
       "      <td>-11494.760182</td>\n",
       "      <td>inf</td>\n",
       "      <td>0.040065</td>\n",
       "      <td>0.000946</td>\n",
       "    </tr>\n",
       "    <tr>\n",
       "      <th>tukeylambda</th>\n",
       "      <td>18.737455</td>\n",
       "      <td>644.383195</td>\n",
       "      <td>-11482.814974</td>\n",
       "      <td>inf</td>\n",
       "      <td>0.042844</td>\n",
       "      <td>0.000316</td>\n",
       "    </tr>\n",
       "    <tr>\n",
       "      <th>hypsecant</th>\n",
       "      <td>18.949267</td>\n",
       "      <td>959.661031</td>\n",
       "      <td>-11463.880142</td>\n",
       "      <td>inf</td>\n",
       "      <td>0.042771</td>\n",
       "      <td>0.000325</td>\n",
       "    </tr>\n",
       "  </tbody>\n",
       "</table>\n",
       "</div>"
      ],
      "text/plain": [
       "               sumsquare_error         aic           bic  kl_div  \\\n",
       "genhyperbolic        18.170040  643.803471 -11540.331548     inf   \n",
       "t                    18.226218  634.716889 -11548.543145     inf   \n",
       "johnsonsu            18.582597  658.828426 -11494.760182     inf   \n",
       "tukeylambda          18.737455  644.383195 -11482.814974     inf   \n",
       "hypsecant            18.949267  959.661031 -11463.880142     inf   \n",
       "\n",
       "               ks_statistic  ks_pvalue  \n",
       "genhyperbolic      0.037558   0.002389  \n",
       "t                  0.037958   0.002070  \n",
       "johnsonsu          0.040065   0.000946  \n",
       "tukeylambda        0.042844   0.000316  \n",
       "hypsecant          0.042771   0.000325  "
      ]
     },
     "execution_count": 14,
     "metadata": {},
     "output_type": "execute_result"
    },
    {
     "data": {
      "image/png": "[encoded data removed]",
      "text/plain": [
       "<Figure size 640x480 with 1 Axes>"
      ]
     },
     "metadata": {},
     "output_type": "display_data"
    }
   ],
   "source": [
    "f = Fitter(sprd_chg,\n",
    "          distributions=get_distributions())\n",
    "f.fit()\n",
    "f.summary()"
   ]
  },
  {
   "cell_type": "code",
   "execution_count": null,
   "id": "c8d22f9d",
   "metadata": {},
   "outputs": [],
   "source": [
    "best = f.get_best(method = 'sumsquare_error')\n",
    "best_distro = list(best.keys())[0]\n",
    "best_distro"
   ]
  },
  {
   "cell_type": "code",
   "execution_count": null,
   "id": "0979bc62",
   "metadata": {},
   "outputs": [],
   "source": [
    "f.fitted_param"
   ]
  },
  {
   "cell_type": "code",
   "execution_count": null,
   "id": "cdfb46e0",
   "metadata": {},
   "outputs": [],
   "source": [
    "f.fitted_param"
   ]
  },
  {
   "cell_type": "code",
   "execution_count": null,
   "id": "bd06475c",
   "metadata": {},
   "outputs": [],
   "source": [
    "list(distro.keys())[0]"
   ]
  },
  {
   "cell_type": "code",
   "execution_count": null,
   "id": "86aa0e50",
   "metadata": {},
   "outputs": [],
   "source": [
    "randos = lognorm.rvs()"
   ]
  }
 ],
 "metadata": {
  "kernelspec": {
   "display_name": "Python 3 (ipykernel)",
   "language": "python",
   "name": "python3"
  },
  "language_info": {
   "codemirror_mode": {
    "name": "ipython",
    "version": 3
   },
   "file_extension": ".py",
   "mimetype": "text/x-python",
   "name": "python",
   "nbconvert_exporter": "python",
   "pygments_lexer": "ipython3",
   "version": "3.10.4"
  }
 },
 "nbformat": 4,
 "nbformat_minor": 5
}
