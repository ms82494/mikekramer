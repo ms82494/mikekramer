{
 "cells": [
  {
   "cell_type": "code",
   "execution_count": 1,
   "id": "e25b6cd3",
   "metadata": {},
   "outputs": [
    {
     "data": {
      "text/html": [
       "<div>\n",
       "<style scoped>\n",
       "    .dataframe tbody tr th:only-of-type {\n",
       "        vertical-align: middle;\n",
       "    }\n",
       "\n",
       "    .dataframe tbody tr th {\n",
       "        vertical-align: top;\n",
       "    }\n",
       "\n",
       "    .dataframe thead th {\n",
       "        text-align: right;\n",
       "    }\n",
       "</style>\n",
       "<table border=\"1\" class=\"dataframe\">\n",
       "  <thead>\n",
       "    <tr style=\"text-align: right;\">\n",
       "      <th></th>\n",
       "      <th>yield02</th>\n",
       "      <th>yield30</th>\n",
       "      <th>spread30_02</th>\n",
       "    </tr>\n",
       "    <tr>\n",
       "      <th>date</th>\n",
       "      <th></th>\n",
       "      <th></th>\n",
       "      <th></th>\n",
       "    </tr>\n",
       "  </thead>\n",
       "  <tbody>\n",
       "    <tr>\n",
       "      <th>1977-02-18</th>\n",
       "      <td>6.03</td>\n",
       "      <td>7.70</td>\n",
       "      <td>1.67</td>\n",
       "    </tr>\n",
       "    <tr>\n",
       "      <th>1977-02-25</th>\n",
       "      <td>6.14</td>\n",
       "      <td>7.80</td>\n",
       "      <td>1.66</td>\n",
       "    </tr>\n",
       "    <tr>\n",
       "      <th>1977-03-04</th>\n",
       "      <td>6.11</td>\n",
       "      <td>7.81</td>\n",
       "      <td>1.70</td>\n",
       "    </tr>\n",
       "    <tr>\n",
       "      <th>1977-03-11</th>\n",
       "      <td>6.12</td>\n",
       "      <td>7.82</td>\n",
       "      <td>1.70</td>\n",
       "    </tr>\n",
       "    <tr>\n",
       "      <th>1977-03-18</th>\n",
       "      <td>6.08</td>\n",
       "      <td>7.78</td>\n",
       "      <td>1.70</td>\n",
       "    </tr>\n",
       "    <tr>\n",
       "      <th>...</th>\n",
       "      <td>...</td>\n",
       "      <td>...</td>\n",
       "      <td>...</td>\n",
       "    </tr>\n",
       "    <tr>\n",
       "      <th>2022-08-05</th>\n",
       "      <td>3.07</td>\n",
       "      <td>2.98</td>\n",
       "      <td>-0.09</td>\n",
       "    </tr>\n",
       "    <tr>\n",
       "      <th>2022-08-12</th>\n",
       "      <td>3.24</td>\n",
       "      <td>3.06</td>\n",
       "      <td>-0.18</td>\n",
       "    </tr>\n",
       "    <tr>\n",
       "      <th>2022-08-19</th>\n",
       "      <td>3.24</td>\n",
       "      <td>3.14</td>\n",
       "      <td>-0.10</td>\n",
       "    </tr>\n",
       "    <tr>\n",
       "      <th>2022-08-26</th>\n",
       "      <td>3.34</td>\n",
       "      <td>3.26</td>\n",
       "      <td>-0.08</td>\n",
       "    </tr>\n",
       "    <tr>\n",
       "      <th>2022-09-02</th>\n",
       "      <td>3.45</td>\n",
       "      <td>3.29</td>\n",
       "      <td>-0.16</td>\n",
       "    </tr>\n",
       "  </tbody>\n",
       "</table>\n",
       "<p>2377 rows × 3 columns</p>\n",
       "</div>"
      ],
      "text/plain": [
       "            yield02  yield30  spread30_02\n",
       "date                                     \n",
       "1977-02-18     6.03     7.70         1.67\n",
       "1977-02-25     6.14     7.80         1.66\n",
       "1977-03-04     6.11     7.81         1.70\n",
       "1977-03-11     6.12     7.82         1.70\n",
       "1977-03-18     6.08     7.78         1.70\n",
       "...             ...      ...          ...\n",
       "2022-08-05     3.07     2.98        -0.09\n",
       "2022-08-12     3.24     3.06        -0.18\n",
       "2022-08-19     3.24     3.14        -0.10\n",
       "2022-08-26     3.34     3.26        -0.08\n",
       "2022-09-02     3.45     3.29        -0.16\n",
       "\n",
       "[2377 rows x 3 columns]"
      ]
     },
     "execution_count": 1,
     "metadata": {},
     "output_type": "execute_result"
    }
   ],
   "source": [
    "import numpy as np\n",
    "import pandas as pd\n",
    "import pandas_datareader.data as web\n",
    "from datetime import datetime, date\n",
    "from fitter import Fitter, get_common_distributions, get_distributions\n",
    "from scipy.stats import lognorm, norm, triang\n",
    "\n",
    "start = date(1950,1,1)\n",
    "end = datetime.today()\n",
    "\n",
    "fred_series = {'yield02':  'WGS2YR',\n",
    "               'yield30': 'WGS30YR'}\n",
    "\n",
    "\n",
    "df = web.DataReader(fred_series.values(), 'fred', start, end)\n",
    "df.columns = fred_series.keys()\n",
    "df.index.name = 'date'\n",
    "df.dropna(inplace=True)\n",
    "spreadName = \"spread\" + df.columns[1][5:] + \"_\" + df.columns[0][5:]\n",
    "df[spreadName] = df[df.columns[1]] - df[df.columns[0]]\n",
    "df"
   ]
  },
  {
   "cell_type": "code",
   "execution_count": 2,
   "id": "34f2f354",
   "metadata": {},
   "outputs": [
    {
     "data": {
      "text/plain": [
       "-2.6099999999999994"
      ]
     },
     "execution_count": 2,
     "metadata": {},
     "output_type": "execute_result"
    }
   ],
   "source": [
    "df.spread30_02.min()"
   ]
  },
  {
   "cell_type": "code",
   "execution_count": 3,
   "id": "ff18ed11",
   "metadata": {},
   "outputs": [
    {
     "data": {
      "text/plain": [
       "date\n",
       "1977-02-25   -1.000000e-02\n",
       "1977-03-04    4.000000e-02\n",
       "1977-03-11    8.881784e-16\n",
       "1977-03-18    0.000000e+00\n",
       "1977-03-25    1.000000e-02\n",
       "                  ...     \n",
       "2022-08-05   -1.700000e-01\n",
       "2022-08-12   -9.000000e-02\n",
       "2022-08-19    8.000000e-02\n",
       "2022-08-26    2.000000e-02\n",
       "2022-09-02   -8.000000e-02\n",
       "Freq: W-FRI, Name: spread30_02, Length: 2376, dtype: float64"
      ]
     },
     "execution_count": 3,
     "metadata": {},
     "output_type": "execute_result"
    }
   ],
   "source": [
    "sprd_chg = df[spreadName].diff()\n",
    "sprd_chg.dropna(inplace=True)\n",
    "sprd_chg"
   ]
  },
  {
   "cell_type": "code",
   "execution_count": 4,
   "id": "b474d78a",
   "metadata": {},
   "outputs": [
    {
     "data": {
      "text/plain": [
       "count    2376.000000\n",
       "mean       -0.000770\n",
       "std         0.104793\n",
       "min        -0.860000\n",
       "25%        -0.050000\n",
       "50%         0.000000\n",
       "75%         0.050000\n",
       "max         0.810000\n",
       "Name: spread30_02, dtype: float64"
      ]
     },
     "execution_count": 4,
     "metadata": {},
     "output_type": "execute_result"
    }
   ],
   "source": [
    "sprd_chg.describe()"
   ]
  },
  {
   "cell_type": "code",
   "execution_count": 5,
   "id": "0cec9d12",
   "metadata": {},
   "outputs": [
    {
     "name": "stderr",
     "output_type": "stream",
     "text": [
      "WARNING:root:SKIPPED kstwo distribution (taking more than 30 seconds)\n",
      "WARNING:root:SKIPPED kappa4 distribution (taking more than 30 seconds)\n",
      "WARNING:root:SKIPPED ksone distribution (taking more than 30 seconds)\n",
      "WARNING:root:SKIPPED levy_stable distribution (taking more than 30 seconds)\n",
      "WARNING:root:SKIPPED mielke distribution (taking more than 30 seconds)\n",
      "WARNING:root:SKIPPED ncf distribution (taking more than 30 seconds)\n",
      "WARNING:root:SKIPPED rv_continuous distribution (taking more than 30 seconds)\n",
      "WARNING:root:SKIPPED rv_histogram distribution (taking more than 30 seconds)\n",
      "WARNING:root:SKIPPED nct distribution (taking more than 30 seconds)\n",
      "WARNING:root:SKIPPED ncx2 distribution (taking more than 30 seconds)\n",
      "/Users/catweazle/anaconda3/envs/yc/lib/python3.10/site-packages/scipy/integrate/quadpack.py:879: IntegrationWarning: The maximum number of subdivisions (50) has been achieved.\n",
      "  If increasing the limit yields no improvement it is advised to analyze \n",
      "  the integrand in order to determine the difficulties.  If the position of a \n",
      "  local difficulty can be determined (singularity, discontinuity) one will \n",
      "  probably gain from splitting up the interval and calling the integrator \n",
      "  on the subranges.  Perhaps a special-purpose integrator should be used.\n",
      "  quad_r = quad(f, low, high, args=args, full_output=self.full_output,\n",
      "WARNING:root:SKIPPED powerlognorm distribution (taking more than 30 seconds)\n",
      "/Users/catweazle/anaconda3/envs/yc/lib/python3.10/site-packages/scipy/integrate/quadpack.py:879: IntegrationWarning: The integral is probably divergent, or slowly convergent.\n",
      "  quad_r = quad(f, low, high, args=args, full_output=self.full_output,\n",
      "WARNING:root:SKIPPED rdist distribution (taking more than 30 seconds)\n",
      "WARNING:root:SKIPPED recipinvgauss distribution (taking more than 30 seconds)\n",
      "WARNING:root:SKIPPED rice distribution (taking more than 30 seconds)\n",
      "WARNING:root:SKIPPED studentized_range distribution (taking more than 30 seconds)\n",
      "WARNING:root:SKIPPED triang distribution (taking more than 30 seconds)\n",
      "WARNING:root:SKIPPED vonmises distribution (taking more than 30 seconds)\n"
     ]
    },
    {
     "data": {
      "text/html": [
       "<div>\n",
       "<style scoped>\n",
       "    .dataframe tbody tr th:only-of-type {\n",
       "        vertical-align: middle;\n",
       "    }\n",
       "\n",
       "    .dataframe tbody tr th {\n",
       "        vertical-align: top;\n",
       "    }\n",
       "\n",
       "    .dataframe thead th {\n",
       "        text-align: right;\n",
       "    }\n",
       "</style>\n",
       "<table border=\"1\" class=\"dataframe\">\n",
       "  <thead>\n",
       "    <tr style=\"text-align: right;\">\n",
       "      <th></th>\n",
       "      <th>sumsquare_error</th>\n",
       "      <th>aic</th>\n",
       "      <th>bic</th>\n",
       "      <th>kl_div</th>\n",
       "      <th>ks_statistic</th>\n",
       "      <th>ks_pvalue</th>\n",
       "    </tr>\n",
       "  </thead>\n",
       "  <tbody>\n",
       "    <tr>\n",
       "      <th>genhyperbolic</th>\n",
       "      <td>18.170040</td>\n",
       "      <td>643.803471</td>\n",
       "      <td>-11540.331548</td>\n",
       "      <td>inf</td>\n",
       "      <td>0.037558</td>\n",
       "      <td>0.002389</td>\n",
       "    </tr>\n",
       "    <tr>\n",
       "      <th>t</th>\n",
       "      <td>18.226218</td>\n",
       "      <td>634.716889</td>\n",
       "      <td>-11548.543145</td>\n",
       "      <td>inf</td>\n",
       "      <td>0.037958</td>\n",
       "      <td>0.002070</td>\n",
       "    </tr>\n",
       "    <tr>\n",
       "      <th>johnsonsu</th>\n",
       "      <td>18.582597</td>\n",
       "      <td>658.828426</td>\n",
       "      <td>-11494.760182</td>\n",
       "      <td>inf</td>\n",
       "      <td>0.040065</td>\n",
       "      <td>0.000946</td>\n",
       "    </tr>\n",
       "    <tr>\n",
       "      <th>tukeylambda</th>\n",
       "      <td>18.737455</td>\n",
       "      <td>644.383195</td>\n",
       "      <td>-11482.814974</td>\n",
       "      <td>inf</td>\n",
       "      <td>0.042844</td>\n",
       "      <td>0.000316</td>\n",
       "    </tr>\n",
       "    <tr>\n",
       "      <th>hypsecant</th>\n",
       "      <td>18.949267</td>\n",
       "      <td>959.661031</td>\n",
       "      <td>-11463.880142</td>\n",
       "      <td>inf</td>\n",
       "      <td>0.042771</td>\n",
       "      <td>0.000325</td>\n",
       "    </tr>\n",
       "  </tbody>\n",
       "</table>\n",
       "</div>"
      ],
      "text/plain": [
       "               sumsquare_error         aic           bic  kl_div  \\\n",
       "genhyperbolic        18.170040  643.803471 -11540.331548     inf   \n",
       "t                    18.226218  634.716889 -11548.543145     inf   \n",
       "johnsonsu            18.582597  658.828426 -11494.760182     inf   \n",
       "tukeylambda          18.737455  644.383195 -11482.814974     inf   \n",
       "hypsecant            18.949267  959.661031 -11463.880142     inf   \n",
       "\n",
       "               ks_statistic  ks_pvalue  \n",
       "genhyperbolic      0.037558   0.002389  \n",
       "t                  0.037958   0.002070  \n",
       "johnsonsu          0.040065   0.000946  \n",
       "tukeylambda        0.042844   0.000316  \n",
       "hypsecant          0.042771   0.000325  "
      ]
     },
     "execution_count": 5,
     "metadata": {},
     "output_type": "execute_result"
    },
    {
     "data": {
      "image/png": "[encoded data removed]",
      "text/plain": [
       "<Figure size 640x480 with 1 Axes>"
      ]
     },
     "metadata": {},
     "output_type": "display_data"
    }
   ],
   "source": [
    "f = Fitter(sprd_chg,\n",
    "          distributions=get_distributions())\n",
    "f.fit()\n",
    "f.summary()"
   ]
  },
  {
   "cell_type": "code",
   "execution_count": 6,
   "id": "c8d22f9d",
   "metadata": {},
   "outputs": [
    {
     "data": {
      "text/plain": [
       "'genhyperbolic'"
      ]
     },
     "execution_count": 6,
     "metadata": {},
     "output_type": "execute_result"
    }
   ],
   "source": [
    "best = f.get_best(method = 'sumsquare_error')\n",
    "best_distro = list(best.keys())[0]\n",
    "best_distro"
   ]
  },
  {
   "cell_type": "code",
   "execution_count": 10,
   "id": "0979bc62",
   "metadata": {},
   "outputs": [
    {
     "data": {
      "text/plain": [
       "{'genhyperbolic': {'p': -1.3572306046057185,\n",
       "  'a': 0.14141039404642797,\n",
       "  'b': 0.05155650182880829,\n",
       "  'loc': -0.006438955808794371,\n",
       "  'scale': 0.09975785728176467}}"
      ]
     },
     "execution_count": 10,
     "metadata": {},
     "output_type": "execute_result"
    }
   ],
   "source": [
    "best"
   ]
  },
  {
   "cell_type": "code",
   "execution_count": 8,
   "id": "cdfb46e0",
   "metadata": {},
   "outputs": [
    {
     "data": {
      "text/plain": [
       "{'anglit': (-0.02494775016946236, 1.0641003424232751),\n",
       " 'bradford': (1.1149870481472433, -0.8600000321508279, 1.6700006320204435),\n",
       " 'beta': (126634.69892859102,\n",
       "  135141.4643811657,\n",
       "  -51.89445099217147,\n",
       "  107.27335227156537),\n",
       " 'cauchy': (-0.003758381651481614, 0.04479682618286397),\n",
       " 'arcsine': (-0.8599999999999978, 1.670001922868005),\n",
       " 'cosine': (3.171480858685459, 1.380689415570752e-30),\n",
       " 'argus': (2.1450461769956263e-05, -0.8619940751563422, 1.6722117479767122),\n",
       " 'alpha': (42.1022641092662, -4.486787762314684, 188.77799708894668),\n",
       " 'chi2': (386.2116810611187, -1.536445664764571, 0.003979923720089349),\n",
       " 'chi': (406.29700623295184, -2.998698814917951, 0.14879382429002758),\n",
       " 'expon': (-0.8599999999999977, 0.8592297979797956),\n",
       " 'betaprime': (5.0042743788564765,\n",
       "  335269978.2733103,\n",
       "  -0.8631284214745198,\n",
       "  63414921.805258065),\n",
       " 'exponnorm': (0.5921991845501735, -0.052411166346219534, 0.0872039191844853),\n",
       " 'dgamma': (0.8845985181488527, 5.696170292014867e-32, 0.07848247047088366),\n",
       " 'exponpow': (3.1498771998160673, -0.8637612995753301, 1.0341380695385956),\n",
       " 'burr12': (606280.6066382974,\n",
       "  0.7647874980413599,\n",
       "  -26999.48194814085,\n",
       "  26999.462026749236),\n",
       " 'erlang': (1139.53894117675, -3.555830371359713, 0.0031189547996542284),\n",
       " 'dweibull': (0.9393891923397426, 1.5090204608049169e-32, 0.06872539306695499),\n",
       " 'crystalball': (2.1608363711905527,\n",
       "  2.9816851092231555,\n",
       "  0.004052017535463169,\n",
       "  0.09366434281427799),\n",
       " 'foldnorm': (9.208266615059888, -0.9655239003375469, 0.10477031626093937),\n",
       " 'exponweib': (11.219754602389076,\n",
       "  8.073145419643073,\n",
       "  -2.135203061835112,\n",
       "  1.878094237483113),\n",
       " 'foldcauchy': (420.85566011706555, -61.48330097237172, 0.14608183542440334),\n",
       " 'gamma': (1141.0123015378163, -3.558127580649405, 0.0031169404353864703),\n",
       " 'fatiguelife': (0.004606777274249133,\n",
       "  -22.723478473334865,\n",
       "  22.722484016609783),\n",
       " 'f': (1.3349387804885287,\n",
       "  1.3701811818869496,\n",
       "  -0.8599999999999978,\n",
       "  0.5713041292378175),\n",
       " 'genextreme': (0.16359925134945538,\n",
       "  -5.555987612917297e-05,\n",
       "  0.1348883780340948),\n",
       " 'genhalflogistic': (0.5628725122293332,\n",
       "  -0.8600000107480172,\n",
       "  0.9401523024896414),\n",
       " 'genhyperbolic': (-1.3572306046057185,\n",
       "  0.14141039404642797,\n",
       "  0.05155650182880829,\n",
       "  -0.006438955808794371,\n",
       "  0.09975785728176467),\n",
       " 'fisk': (175.5691501502354, -8.745004711504075, 8.742951871746001),\n",
       " 'genlogistic': (0.9453706950188454,\n",
       "  0.002043582185708529,\n",
       "  0.04883896509769872),\n",
       " 'gennorm': (0.9163773407275961, 2.9121147370133706e-10, 0.06004998959443292),\n",
       " 'geninvgauss': (-3929.5519475930532,\n",
       "  36321.29639220475,\n",
       "  -20.025963454051926,\n",
       "  22.308298954137484),\n",
       " 'gumbel_l': (0.05355380613032921, 0.15995699586778622),\n",
       " 'gilbrat': (-0.8618887747233903, 0.8522904269862416),\n",
       " 'burr': (73.94872997213744,\n",
       "  0.8633127315156944,\n",
       "  -3.4938913260229065,\n",
       "  3.5017622891882203),\n",
       " 'gumbel_r': (-0.054127651461552816, 0.16390964119476922),\n",
       " 'gengamma': (84.35916022015968,\n",
       "  3.867165628312609,\n",
       "  -3.7684965241232584,\n",
       "  1.1978495463154846),\n",
       " 'halfnorm': (-0.8600000191804462, 0.8655699412511381),\n",
       " 'halfcauchy': (-0.8600000048793495, 0.853591895534755),\n",
       " 'gompertz': (0.0033604621996186387, -0.8641179390184776, 0.1609131359456431),\n",
       " 'halflogistic': (-0.8600000084851847, 0.558330148185008),\n",
       " 'genpareto': (-0.7410614412122511, -0.8600000011813791, 1.2378752164597722),\n",
       " 'hypsecant': (-0.002330729462883694, 0.058549180648859486),\n",
       " 'halfgennorm': (9.774542794654215, -0.8600000000061512, 1.1940647225351142),\n",
       " 'invgamma': (833.501222130219, -3.0509064215918116, 2538.4706917383755),\n",
       " 'genexpon': (0.00020004694162558458,\n",
       "  2.2732828587944436,\n",
       "  0.047012101985796376,\n",
       "  -0.8600000149676845,\n",
       "  0.19699368000146295),\n",
       " 'johnsonsu': (-0.08193285286482235,\n",
       "  1.1220347066667493,\n",
       "  -0.008354527621825,\n",
       "  0.0726773731163714),\n",
       " 'invgauss': (0.004215610780018125, -1.6988243039418691, 403.06295137209236),\n",
       " 'laplace': (0.0, 0.06865740740740742),\n",
       " 'laplace_asymmetric': (1.005601648783716,\n",
       "  -5.317356920155649e-09,\n",
       "  0.06865986166466059),\n",
       " 'kstwobign': (-0.9861839945444197, 1.1816301829931257),\n",
       " 'levy': (-0.8722107585224326, 0.8293356360021806),\n",
       " 'levy_l': (0.821368519281624, 0.780638405589777),\n",
       " 'kappa3': (23.000384011331285, -0.8600000000017483, 0.9370111609327074),\n",
       " 'logistic': (-0.001899098116821562, 0.049810191472587334),\n",
       " 'gausshyper': (61.13038051319646,\n",
       "  23.510398619267974,\n",
       "  -53.349861653311024,\n",
       "  -0.9000000006607234,\n",
       "  -1.1681513122254885,\n",
       "  2.4543271923099965),\n",
       " 'invweibull': (9468.161057749048, -1552.1897352613619, 1552.1358061969217),\n",
       " 'loguniform': (1.106283250777162,\n",
       "  1.8754977032072322,\n",
       "  -0.0010401444881047786,\n",
       "  0.04320994067312896),\n",
       " 'loggamma': (1025.9137508658391, -23.554538713349203, 3.3973855381935945),\n",
       " 'maxwell': (-0.8607997384364177, 0.5002073419551177),\n",
       " 'johnsonsb': (-27598470.62102247,\n",
       "  66560656.80802685,\n",
       "  -17508632.174888037,\n",
       "  29074491.927666754),\n",
       " 'moyal': (-0.08029047305931127, 0.13748741461468394),\n",
       " 'loglaplace': (166312379.0632217, -16048500.193260916, 16048500.193260916),\n",
       " 'lomax': (2185636661.882738, -0.8600000006897066, 1844054737.3569922),\n",
       " 'norm': (-0.0007702020202020203, 0.10477065406797477),\n",
       " 'lognorm': (0.0047485457626094026, -22.068615077196803, 22.067590557603438),\n",
       " 'nakagami': (8796.215377322695, -19.652605325264773, 19.652112475807257),\n",
       " 'powerlaw': (1.4817383368291068, -0.8606433637670602, 1.670643375518749),\n",
       " 'pearson3': (0.010054694127183947,\n",
       "  -0.0007812025476376268,\n",
       "  0.10476896403940564),\n",
       " 'rayleigh': (-0.06568730022053301, 0.08715250883532458),\n",
       " 'norminvgauss': (0.46345226790706723,\n",
       "  0.033484396488745204,\n",
       "  -0.0057257502393800825,\n",
       "  0.0683630876811142),\n",
       " 'pareto': (64290275.97853625, -52268051.073096454, 52268050.213096455),\n",
       " 'powernorm': (1.3103606143026165, 0.025315303024731603, 0.11325004488920241),\n",
       " 'semicircular': (-0.024990365225775066, 0.8353676185355439),\n",
       " 'skewnorm': (0.860593346413628, -0.06384439014396803, 0.1222918024673236),\n",
       " 'skewcauchy': (0.06460497282562205,\n",
       "  -0.00875890118382003,\n",
       "  0.04476598966363188),\n",
       " 'reciprocal': (1.106283250777162,\n",
       "  1.8754977032072322,\n",
       "  -0.0010401444881047786,\n",
       "  0.04320994067312896),\n",
       " 't': (2.851977537978141, -0.002687866706523043, 0.060762527959340853),\n",
       " 'uniform': (-0.8599999999999977, 1.6699999999999964),\n",
       " 'trapezoid': (1.0, 1.0, -1.0783499999999973, 2.0039999999999956),\n",
       " 'truncexpon': (0.763624310698183, -0.8600160628413959, 2.186960314842854),\n",
       " 'trapz': (1.0, 1.0, -1.0783499999999973, 2.0039999999999956),\n",
       " 'wald': (-0.8760809661534652, 1.3738968793062774),\n",
       " 'tukeylambda': (-0.23493464442482606,\n",
       "  -0.0021279073375196113,\n",
       "  0.03465151213534372),\n",
       " 'weibull_min': (7.041880958088925, -0.8796868244003275, 0.9237992060722151),\n",
       " 'truncnorm': (1.0755630652467794,\n",
       "  1.8384354910998795,\n",
       "  -0.0006380103653773959,\n",
       "  0.04386230072029884),\n",
       " 'weibull_max': (6.698161954331679, 0.8262253997024411, 0.8707029686142471),\n",
       " 'wrapcauchy': (0.5, -0.8599999999999977, 0.26578875496346466),\n",
       " 'vonmises_line': (1.3053444321792538,\n",
       "  2.5523538060071083,\n",
       "  1.697828987579785e-30)}"
      ]
     },
     "execution_count": 8,
     "metadata": {},
     "output_type": "execute_result"
    }
   ],
   "source": [
    "f.fitted_param"
   ]
  },
  {
   "cell_type": "code",
   "execution_count": 9,
   "id": "bd06475c",
   "metadata": {},
   "outputs": [
    {
     "ename": "NameError",
     "evalue": "name 'distro' is not defined",
     "output_type": "error",
     "traceback": [
      "\u001b[0;31m---------------------------------------------------------------------------\u001b[0m",
      "\u001b[0;31mNameError\u001b[0m                                 Traceback (most recent call last)",
      "Input \u001b[0;32mIn [9]\u001b[0m, in \u001b[0;36m<cell line: 1>\u001b[0;34m()\u001b[0m\n\u001b[0;32m----> 1\u001b[0m \u001b[38;5;28mlist\u001b[39m(\u001b[43mdistro\u001b[49m\u001b[38;5;241m.\u001b[39mkeys())[\u001b[38;5;241m0\u001b[39m]\n",
      "\u001b[0;31mNameError\u001b[0m: name 'distro' is not defined"
     ]
    }
   ],
   "source": [
    "list(distro.keys())[0]"
   ]
  },
  {
   "cell_type": "code",
   "execution_count": null,
   "id": "86aa0e50",
   "metadata": {},
   "outputs": [],
   "source": [
    "randos = lognorm.rvs()"
   ]
  }
 ],
 "metadata": {
  "kernelspec": {
   "display_name": "Python 3 (ipykernel)",
   "language": "python",
   "name": "python3"
  },
  "language_info": {
   "codemirror_mode": {
    "name": "ipython",
    "version": 3
   },
   "file_extension": ".py",
   "mimetype": "text/x-python",
   "name": "python",
   "nbconvert_exporter": "python",
   "pygments_lexer": "ipython3",
   "version": "3.10.4"
  }
 },
 "nbformat": 4,
 "nbformat_minor": 5
}
